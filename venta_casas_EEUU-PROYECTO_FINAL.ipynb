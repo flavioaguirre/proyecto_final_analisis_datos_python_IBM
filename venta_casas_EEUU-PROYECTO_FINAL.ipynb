{
 "cells": [
  {
   "cell_type": "markdown",
   "id": "23450efb-fa8c-4160-a4e8-488b20362052",
   "metadata": {},
   "source": [
    "<p style=\"text-align:center\">\n",
    "    <a href=\"https://skills.network\" target=\"_blank\">\n",
    "    <img src=\"https://cf-courses-data.s3.us.cloud-object-storage.appdomain.cloud/assets/logos/SN_web_lightmode.png\" width=\"300\" alt=\"Skills Network Logo\">\n",
    "    </a>\n",
    "</p>\n",
    "\n",
    "# <h1 align=\"center\"><font size=\"7\"><strong>Proyecto final</strong></font></h1>\n",
    "## <h2 align= \"center\"><font size=\"6.8\">Venta de casas en el condado de King, EE. UU.</font></h2>\n"
   ]
  },
  {
   "cell_type": "markdown",
   "id": "cf03b4c9-c316-4b04-9d3f-168bd992d104",
   "metadata": {},
   "source": [
    "<h2>Tabla de contenidos</h2>\n",
    "<div class=\"alert alert-block alert-info\" style=\"margin-top: 20px\">\n",
    "    <ul>\n",
    "    <li><a href=\"#Instrucciones\">Instrucciones</a></li>\n",
    "    <li><a href=\"#About-the-Dataset\">Sobre el Dataset</a></li>\n",
    "    <li><a href=\"#Module-1:-Importing-Data-Sets\">Parte 1: Importando los datos </a></li>\n",
    "    <li><a href=\"#Module-2:-Data-Wrangling\">Parte 2: Manipulación de datos</a> </li>\n",
    "    <li><a href=\"#Module-3:-Exploratory-Data-Analysis\">Parte 3: Análisis exploratorio de datos (EDA)</a></li>\n",
    "    <li><a href=\"#Module-4:-Model-Development\">Parte 4: Desarrollo del modelo</a></li>\n",
    "    <li><a href=\"#Module-5:-Model-Evaluation-and-Refinement\">Parte 5: Evaluación y refinamiento del modelo</a></li>\n",
    "</a></li>\n",
    "</div>\n",
    "\n",
    "<hr>\n"
   ]
  },
  {
   "cell_type": "markdown",
   "id": "f6873f85-17bc-4eca-b3c0-4e87be9efb42",
   "metadata": {},
   "source": [
    "## Instrucciones\n"
   ]
  },
  {
   "cell_type": "markdown",
   "id": "d0135559-4f80-436c-b6a3-d35baf28c8a2",
   "metadata": {},
   "source": [
    "En este trabajo se nos encarga ser un analista de datos que trabaja en un fideicomiso de inversión inmobiliaria. El fideicomiso desea comenzar a invertir en bienes raíces residenciales por lo que se nos encarga la tarea de determinar el precio de mercado de una casa, dada una serie de características.\n",
    "\n",
    "* <strong>Objetivo</strong>:\n",
    "\n",
    "``Analizar y predecir los precios de las viviendas utilizando atributos o características como los pies cuadrados (sqft), la cantidad de habitaciones, la cantidad de pisos, etc.``\n"
   ]
  },
  {
   "cell_type": "markdown",
   "id": "4c397032-6777-480a-ac82-5b15dbde638e",
   "metadata": {},
   "source": [
    "## Sobre el Dataset\n",
    "\n",
    "Este conjunto de datos contiene los precios de venta de viviendas en el condado de King, que incluye Seattle. Este incluye viviendas vendidas entre mayo de 2014 y mayo de 2015. Se extrajo de esta [fuente](https://www.kaggle.com/harlfoxem/housesalesprediction?utm_medium=Exinfluencer&utm_source=Exinfluencer&utm_content=000026UJ&utm_term=10006555&utm_id=NA-SkillsNetwork-wwwcourseraorg-SkillsNetworkCoursesIBMDeveloperSkillsNetworkDA0101ENSkillsNetwork20235326-2022-01-01).También fue ligeramente modificado para los propósitos de este ejercicio. \n"
   ]
  },
  {
   "cell_type": "markdown",
   "metadata": {},
   "source": [
    "### Variables del dataset"
   ]
  },
  {
   "cell_type": "markdown",
   "id": "71f2db79-f11e-477f-92f6-460552654d6a",
   "metadata": {},
   "source": [
    "| Variable      | Descripción                                                                                                 |\n",
    "| ------------- | ----------------------------------------------------------------------------------------------------------- |\n",
    "| id            | Una notación para una casa                                                                                    |\n",
    "| date          | Fecha en que se vendió la casa                                                                                        |\n",
    "| price         | Precio de la casa (es nuestro objetivo predecir)                                                                                  |\n",
    "| bedrooms       | Número de habitaciones                                                                                          |\n",
    "| bathrooms     | Número de baños                                                                                        |\n",
    "| sqft_living   | Pies cuadrados de la casa                                                                                 |\n",
    "| sqft_lote      | Pies cuadrados del lote                                                                              |\n",
    "| floors         | Total de pisos (niveles) en la casa                                                                              |\n",
    "| waterfront    | Casa con vista al mar                                                                      |\n",
    "| view         | Se ha visto                                                                                            |\n",
    "| condition     | Qué buena es la condición en general                                                                           |\n",
    "| grade         | Calificación general otorgada a la unidad de vivienda, según el sistema de calificación del condado de King                                |\n",
    "| sqft_above   | Pies cuadrados de la casa sin contar el sótano                                                                 |\n",
    "| sqft_basement | Pies cuadrados del sótano                                                                              |\n",
    "| yr_built      | Año de construcción                                                                                                 |\n",
    "| yr_renovated  | Año en que se renovó la casa                                                                               |\n",
    "| zipcode       | Código postal                                                                                                    |\n",
    "| lat           | Coordenada de latitud                                                                                        |\n",
    "| long          | Coordenada de longitud                                                                                       |\n",
    "| sqft_living15 | Área de la sala de estar en 2015 (implica algunas renovaciones) Esto podría haber afectado o no el área del lote. |\n",
    "| sqft_lot15    | Área del lote en 2015 (implica algunas renovaciones)                                                            |\n"
   ]
  },
  {
   "cell_type": "markdown",
   "metadata": {},
   "source": [
    "<hr>"
   ]
  },
  {
   "cell_type": "markdown",
   "metadata": {},
   "source": [
    "## Setup"
   ]
  },
  {
   "cell_type": "markdown",
   "metadata": {},
   "source": [
    "Para este trabajo, utilizaremos las siguientes bibliotecas de Python:\n",
    "\n",
    "*   [`pandas`](https://pandas.pydata.org/?utm_medium=Exinfluencer&utm_source=Exinfluencer&utm_content=000026UJ&utm_term=10006555&utm_id=NA-SkillsNetwork-Channel-SkillsNetworkCoursesIBMML0187ENSkillsNetwork31430127-2021-01-01) para gestionar los datos.\n",
    "*   [`numpy`](https://numpy.org/?utm_medium=Exinfluencer&utm_source=Exinfluencer&utm_content=000026UJ&utm_term=10006555&utm_id=NA-SkillsNetwork-Channel-SkillsNetworkCoursesIBMML0187ENSkillsNetwork31430127-2021-01-01) para operaciones matemáticas.\n",
    "*   [`scikit-learn`](https://scikit-learn.org/stable/?utm_medium=Exinfluencer&utm_source=Exinfluencer&utm_content=000026UJ&utm_term=10006555&utm_id=NA-SkillsNetwork-Channel-SkillsNetworkCoursesIBMML0187ENSkillsNetwork31430127-2021-01-01) para funciones relacionadas con machine learning y el pipeline para machine learning.\n",
    "*   [`seaborn`](https://seaborn.pydata.org/?utm_medium=Exinfluencer&utm_source=Exinfluencer&utm_content=000026UJ&utm_term=10006555&utm_id=NA-SkillsNetwork-Channel-SkillsNetworkCoursesIBMML0187ENSkillsNetwork31430127-2021-01-01) para visualizar los datos.\n",
    "*   [`matplotlib`](https://matplotlib.org/?utm_medium=Exinfluencer&utm_source=Exinfluencer&utm_content=000026UJ&utm_term=10006555&utm_id=NA-SkillsNetwork-Channel-SkillsNetworkCoursesIBMML0187ENSkillsNetwork31430127-2021-01-01) para herramientas de trazado adicionales.\n"
   ]
  },
  {
   "cell_type": "markdown",
   "id": "fae6af9a-adb1-4c20-b81c-7ca8f57740c9",
   "metadata": {},
   "source": [
    "### **Instalamos e Importamos las bibliotecas mencionadas**\n"
   ]
  },
  {
   "cell_type": "code",
   "execution_count": 1,
   "metadata": {},
   "outputs": [
    {
     "name": "stdout",
     "output_type": "stream",
     "text": [
      "Note: you may need to restart the kernel to use updated packages.Requirement already satisfied: pandas in c:\\users\\pc\\desktop\\proyecto_final_analisis_datos_python\\.venv\\lib\\site-packages (2.2.3)\n",
      "Requirement already satisfied: numpy in c:\\users\\pc\\desktop\\proyecto_final_analisis_datos_python\\.venv\\lib\\site-packages (2.2.1)\n",
      "Requirement already satisfied: matplotlib in c:\\users\\pc\\desktop\\proyecto_final_analisis_datos_python\\.venv\\lib\\site-packages (3.10.0)\n",
      "Requirement already satisfied: seaborn in c:\\users\\pc\\desktop\\proyecto_final_analisis_datos_python\\.venv\\lib\\site-packages (0.13.2)\n",
      "Requirement already satisfied: scikit-learn in c:\\users\\pc\\desktop\\proyecto_final_analisis_datos_python\\.venv\\lib\\site-packages (1.6.0)\n",
      "Requirement already satisfied: python-dateutil>=2.8.2 in c:\\users\\pc\\desktop\\proyecto_final_analisis_datos_python\\.venv\\lib\\site-packages (from pandas) (2.9.0.post0)\n",
      "Requirement already satisfied: pytz>=2020.1 in c:\\users\\pc\\desktop\\proyecto_final_analisis_datos_python\\.venv\\lib\\site-packages (from pandas) (2024.2)\n",
      "Requirement already satisfied: tzdata>=2022.7 in c:\\users\\pc\\desktop\\proyecto_final_analisis_datos_python\\.venv\\lib\\site-packages (from pandas) (2024.2)\n",
      "Requirement already satisfied: contourpy>=1.0.1 in c:\\users\\pc\\desktop\\proyecto_final_analisis_datos_python\\.venv\\lib\\site-packages (from matplotlib) (1.3.1)\n",
      "Requirement already satisfied: cycler>=0.10 in c:\\users\\pc\\desktop\\proyecto_final_analisis_datos_python\\.venv\\lib\\site-packages (from matplotlib) (0.12.1)\n",
      "Requirement already satisfied: fonttools>=4.22.0 in c:\\users\\pc\\desktop\\proyecto_final_analisis_datos_python\\.venv\\lib\\site-packages (from matplotlib) (4.55.3)\n",
      "Requirement already satisfied: kiwisolver>=1.3.1 in c:\\users\\pc\\desktop\\proyecto_final_analisis_datos_python\\.venv\\lib\\site-packages (from matplotlib) (1.4.8)\n",
      "Requirement already satisfied: packaging>=20.0 in c:\\users\\pc\\desktop\\proyecto_final_analisis_datos_python\\.venv\\lib\\site-packages (from matplotlib) (24.2)\n",
      "Requirement already satisfied: pillow>=8 in c:\\users\\pc\\desktop\\proyecto_final_analisis_datos_python\\.venv\\lib\\site-packages (from matplotlib) (11.1.0)\n",
      "Requirement already satisfied: pyparsing>=2.3.1 in c:\\users\\pc\\desktop\\proyecto_final_analisis_datos_python\\.venv\\lib\\site-packages (from matplotlib) (3.2.1)\n",
      "Requirement already satisfied: scipy>=1.6.0 in c:\\users\\pc\\desktop\\proyecto_final_analisis_datos_python\\.venv\\lib\\site-packages (from scikit-learn) (1.15.0)\n",
      "Requirement already satisfied: joblib>=1.2.0 in c:\\users\\pc\\desktop\\proyecto_final_analisis_datos_python\\.venv\\lib\\site-packages (from scikit-learn) (1.4.2)\n",
      "Requirement already satisfied: threadpoolctl>=3.1.0 in c:\\users\\pc\\desktop\\proyecto_final_analisis_datos_python\\.venv\\lib\\site-packages (from scikit-learn) (3.5.0)\n",
      "Requirement already satisfied: six>=1.5 in c:\\users\\pc\\desktop\\proyecto_final_analisis_datos_python\\.venv\\lib\\site-packages (from python-dateutil>=2.8.2->pandas) (1.17.0)\n",
      "\n"
     ]
    },
    {
     "name": "stderr",
     "output_type": "stream",
     "text": [
      "\n",
      "[notice] A new release of pip is available: 24.0 -> 24.3.1\n",
      "[notice] To update, run: python.exe -m pip install --upgrade pip\n"
     ]
    }
   ],
   "source": [
    "# Instalamos las bibliotecas usando un magic command\n",
    "%pip install pandas numpy matplotlib seaborn scikit-learn"
   ]
  },
  {
   "cell_type": "code",
   "execution_count": 2,
   "id": "ec71f8df-18b5-4f32-9034-dfb2897e84ed",
   "metadata": {},
   "outputs": [],
   "source": [
    "# Importamos las bibliotecas\n",
    "import pandas as pd\n",
    "import matplotlib.pyplot as plt\n",
    "import numpy as np\n",
    "import seaborn as sns\n",
    "from sklearn.pipeline import Pipeline\n",
    "from sklearn.preprocessing import StandardScaler,PolynomialFeatures\n",
    "from sklearn.linear_model import LinearRegression\n",
    "\n",
    "import warnings\n",
    "warnings.filterwarnings('ignore')\n",
    "\n",
    "# Para que las visualizaciones se ejecuten dentro de las celdas\n",
    "%matplotlib inline"
   ]
  },
  {
   "cell_type": "markdown",
   "metadata": {},
   "source": [
    "<br>"
   ]
  },
  {
   "cell_type": "markdown",
   "metadata": {},
   "source": [
    "<hr>"
   ]
  },
  {
   "cell_type": "markdown",
   "id": "49c46955-71a8-4191-8f42-28203a46b4db",
   "metadata": {},
   "source": [
    "## Parte 1: Importación de conjuntos de datos\n"
   ]
  },
  {
   "cell_type": "markdown",
   "id": "f15082ce-ada3-48e0-a1a4-18854dbb277e",
   "metadata": {},
   "source": [
    "Cargamos directamente el dataset (en este caso un archivo de extensión <code>.csv</code> que proviene de un enlace externo) dentro de un dataframe en nuestro cuaderno Jupyter para luego tenerlo de manera local."
   ]
  },
  {
   "cell_type": "code",
   "execution_count": 4,
   "id": "16ed7738-a15e-427c-897d-e14feb9271d0",
   "metadata": {},
   "outputs": [],
   "source": [
    "# Direccion del archivo csv\n",
    "ruta_archivo = 'https://cf-courses-data.s3.us.cloud-object-storage.appdomain.cloud/IBMDeveloperSkillsNetwork-DA0101EN-SkillsNetwork/labs/FinalModule_Coursera/data/kc_house_data_NaN.csv'\n",
    "\n",
    "# Cargamos el archivo csv en un dataframe de pandas\n",
    "df = pd.read_csv(ruta_archivo)"
   ]
  },
  {
   "cell_type": "markdown",
   "id": "6a00f1cd-480d-4397-955d-e5a120df7202",
   "metadata": {},
   "source": [
    "Pero antes de descargar el dataset sin limpiar, verificamos si se guardo correctamente el dataframe con el método <code>head()</code> para mostrar las primeras 5 columnas del marco de datos.\n"
   ]
  },
  {
   "cell_type": "code",
   "execution_count": 5,
   "id": "e07045ed-8d45-47cc-b5b2-1db8215257a6",
   "metadata": {},
   "outputs": [
    {
     "data": {
      "text/html": [
       "<div>\n",
       "<style scoped>\n",
       "    .dataframe tbody tr th:only-of-type {\n",
       "        vertical-align: middle;\n",
       "    }\n",
       "\n",
       "    .dataframe tbody tr th {\n",
       "        vertical-align: top;\n",
       "    }\n",
       "\n",
       "    .dataframe thead th {\n",
       "        text-align: right;\n",
       "    }\n",
       "</style>\n",
       "<table border=\"1\" class=\"dataframe\">\n",
       "  <thead>\n",
       "    <tr style=\"text-align: right;\">\n",
       "      <th></th>\n",
       "      <th>Unnamed: 0</th>\n",
       "      <th>id</th>\n",
       "      <th>date</th>\n",
       "      <th>price</th>\n",
       "      <th>bedrooms</th>\n",
       "      <th>bathrooms</th>\n",
       "      <th>sqft_living</th>\n",
       "      <th>sqft_lot</th>\n",
       "      <th>floors</th>\n",
       "      <th>waterfront</th>\n",
       "      <th>...</th>\n",
       "      <th>grade</th>\n",
       "      <th>sqft_above</th>\n",
       "      <th>sqft_basement</th>\n",
       "      <th>yr_built</th>\n",
       "      <th>yr_renovated</th>\n",
       "      <th>zipcode</th>\n",
       "      <th>lat</th>\n",
       "      <th>long</th>\n",
       "      <th>sqft_living15</th>\n",
       "      <th>sqft_lot15</th>\n",
       "    </tr>\n",
       "  </thead>\n",
       "  <tbody>\n",
       "    <tr>\n",
       "      <th>0</th>\n",
       "      <td>0</td>\n",
       "      <td>7129300520</td>\n",
       "      <td>20141013T000000</td>\n",
       "      <td>221900.0</td>\n",
       "      <td>3.0</td>\n",
       "      <td>1.00</td>\n",
       "      <td>1180</td>\n",
       "      <td>5650</td>\n",
       "      <td>1.0</td>\n",
       "      <td>0</td>\n",
       "      <td>...</td>\n",
       "      <td>7</td>\n",
       "      <td>1180</td>\n",
       "      <td>0</td>\n",
       "      <td>1955</td>\n",
       "      <td>0</td>\n",
       "      <td>98178</td>\n",
       "      <td>47.5112</td>\n",
       "      <td>-122.257</td>\n",
       "      <td>1340</td>\n",
       "      <td>5650</td>\n",
       "    </tr>\n",
       "    <tr>\n",
       "      <th>1</th>\n",
       "      <td>1</td>\n",
       "      <td>6414100192</td>\n",
       "      <td>20141209T000000</td>\n",
       "      <td>538000.0</td>\n",
       "      <td>3.0</td>\n",
       "      <td>2.25</td>\n",
       "      <td>2570</td>\n",
       "      <td>7242</td>\n",
       "      <td>2.0</td>\n",
       "      <td>0</td>\n",
       "      <td>...</td>\n",
       "      <td>7</td>\n",
       "      <td>2170</td>\n",
       "      <td>400</td>\n",
       "      <td>1951</td>\n",
       "      <td>1991</td>\n",
       "      <td>98125</td>\n",
       "      <td>47.7210</td>\n",
       "      <td>-122.319</td>\n",
       "      <td>1690</td>\n",
       "      <td>7639</td>\n",
       "    </tr>\n",
       "    <tr>\n",
       "      <th>2</th>\n",
       "      <td>2</td>\n",
       "      <td>5631500400</td>\n",
       "      <td>20150225T000000</td>\n",
       "      <td>180000.0</td>\n",
       "      <td>2.0</td>\n",
       "      <td>1.00</td>\n",
       "      <td>770</td>\n",
       "      <td>10000</td>\n",
       "      <td>1.0</td>\n",
       "      <td>0</td>\n",
       "      <td>...</td>\n",
       "      <td>6</td>\n",
       "      <td>770</td>\n",
       "      <td>0</td>\n",
       "      <td>1933</td>\n",
       "      <td>0</td>\n",
       "      <td>98028</td>\n",
       "      <td>47.7379</td>\n",
       "      <td>-122.233</td>\n",
       "      <td>2720</td>\n",
       "      <td>8062</td>\n",
       "    </tr>\n",
       "    <tr>\n",
       "      <th>3</th>\n",
       "      <td>3</td>\n",
       "      <td>2487200875</td>\n",
       "      <td>20141209T000000</td>\n",
       "      <td>604000.0</td>\n",
       "      <td>4.0</td>\n",
       "      <td>3.00</td>\n",
       "      <td>1960</td>\n",
       "      <td>5000</td>\n",
       "      <td>1.0</td>\n",
       "      <td>0</td>\n",
       "      <td>...</td>\n",
       "      <td>7</td>\n",
       "      <td>1050</td>\n",
       "      <td>910</td>\n",
       "      <td>1965</td>\n",
       "      <td>0</td>\n",
       "      <td>98136</td>\n",
       "      <td>47.5208</td>\n",
       "      <td>-122.393</td>\n",
       "      <td>1360</td>\n",
       "      <td>5000</td>\n",
       "    </tr>\n",
       "    <tr>\n",
       "      <th>4</th>\n",
       "      <td>4</td>\n",
       "      <td>1954400510</td>\n",
       "      <td>20150218T000000</td>\n",
       "      <td>510000.0</td>\n",
       "      <td>3.0</td>\n",
       "      <td>2.00</td>\n",
       "      <td>1680</td>\n",
       "      <td>8080</td>\n",
       "      <td>1.0</td>\n",
       "      <td>0</td>\n",
       "      <td>...</td>\n",
       "      <td>8</td>\n",
       "      <td>1680</td>\n",
       "      <td>0</td>\n",
       "      <td>1987</td>\n",
       "      <td>0</td>\n",
       "      <td>98074</td>\n",
       "      <td>47.6168</td>\n",
       "      <td>-122.045</td>\n",
       "      <td>1800</td>\n",
       "      <td>7503</td>\n",
       "    </tr>\n",
       "  </tbody>\n",
       "</table>\n",
       "<p>5 rows × 22 columns</p>\n",
       "</div>"
      ],
      "text/plain": [
       "   Unnamed: 0          id             date     price  bedrooms  bathrooms  \\\n",
       "0           0  7129300520  20141013T000000  221900.0       3.0       1.00   \n",
       "1           1  6414100192  20141209T000000  538000.0       3.0       2.25   \n",
       "2           2  5631500400  20150225T000000  180000.0       2.0       1.00   \n",
       "3           3  2487200875  20141209T000000  604000.0       4.0       3.00   \n",
       "4           4  1954400510  20150218T000000  510000.0       3.0       2.00   \n",
       "\n",
       "   sqft_living  sqft_lot  floors  waterfront  ...  grade  sqft_above  \\\n",
       "0         1180      5650     1.0           0  ...      7        1180   \n",
       "1         2570      7242     2.0           0  ...      7        2170   \n",
       "2          770     10000     1.0           0  ...      6         770   \n",
       "3         1960      5000     1.0           0  ...      7        1050   \n",
       "4         1680      8080     1.0           0  ...      8        1680   \n",
       "\n",
       "   sqft_basement  yr_built  yr_renovated  zipcode      lat     long  \\\n",
       "0              0      1955             0    98178  47.5112 -122.257   \n",
       "1            400      1951          1991    98125  47.7210 -122.319   \n",
       "2              0      1933             0    98028  47.7379 -122.233   \n",
       "3            910      1965             0    98136  47.5208 -122.393   \n",
       "4              0      1987             0    98074  47.6168 -122.045   \n",
       "\n",
       "   sqft_living15  sqft_lot15  \n",
       "0           1340        5650  \n",
       "1           1690        7639  \n",
       "2           2720        8062  \n",
       "3           1360        5000  \n",
       "4           1800        7503  \n",
       "\n",
       "[5 rows x 22 columns]"
      ]
     },
     "execution_count": 5,
     "metadata": {},
     "output_type": "execute_result"
    }
   ],
   "source": [
    "df.head()"
   ]
  },
  {
   "cell_type": "code",
   "execution_count": 5,
   "metadata": {},
   "outputs": [],
   "source": [
    "# Descargamos el archivo csv sin limpiar para poder compararlo con futuras versiones\n",
    "df.to_csv('data.csv')"
   ]
  },
  {
   "cell_type": "markdown",
   "metadata": {},
   "source": [
    "### Relizamos una breve inspección para ver como quedo el dataframe"
   ]
  },
  {
   "cell_type": "markdown",
   "metadata": {},
   "source": [
    "``Dimensiones del Dataset``:\n"
   ]
  },
  {
   "cell_type": "code",
   "execution_count": 6,
   "metadata": {},
   "outputs": [
    {
     "name": "stdout",
     "output_type": "stream",
     "text": [
      "\n",
      "Dimensiones del Dataset con sus datos originales:\n",
      "_ Número de filas: 21613\n",
      "_ Número de columnas: 22\n",
      "    \n"
     ]
    }
   ],
   "source": [
    "print(f'''\n",
    "Dimensiones del Dataset con sus datos originales:\n",
    "_ Número de filas: {df.shape[0]}\n",
    "_ Número de columnas: {df.shape[1]}\n",
    "    ''')"
   ]
  },
  {
   "cell_type": "markdown",
   "metadata": {},
   "source": [
    "\n",
    " ``Verificamos tipos de datos de cada columna del DataFrame``:"
   ]
  },
  {
   "cell_type": "code",
   "execution_count": 7,
   "id": "6e9ac024-4a72-46f4-9f11-8c3b4b97be2a",
   "metadata": {},
   "outputs": [
    {
     "name": "stdout",
     "output_type": "stream",
     "text": [
      "Tipos de datos por columna\n"
     ]
    },
    {
     "data": {
      "text/plain": [
       "Unnamed: 0         int64\n",
       "id                 int64\n",
       "date              object\n",
       "price            float64\n",
       "bedrooms         float64\n",
       "bathrooms        float64\n",
       "sqft_living        int64\n",
       "sqft_lot           int64\n",
       "floors           float64\n",
       "waterfront         int64\n",
       "view               int64\n",
       "condition          int64\n",
       "grade              int64\n",
       "sqft_above         int64\n",
       "sqft_basement      int64\n",
       "yr_built           int64\n",
       "yr_renovated       int64\n",
       "zipcode            int64\n",
       "lat              float64\n",
       "long             float64\n",
       "sqft_living15      int64\n",
       "sqft_lot15         int64\n",
       "dtype: object"
      ]
     },
     "execution_count": 7,
     "metadata": {},
     "output_type": "execute_result"
    }
   ],
   "source": [
    "print('Tipos de datos por columna')\n",
    "df.dtypes"
   ]
  },
  {
   "cell_type": "markdown",
   "id": "81f491ce-d41c-41a3-b339-0d8d49ff911d",
   "metadata": {},
   "source": [
    "``Resumen estadístico del DataFrame``:\n"
   ]
  },
  {
   "cell_type": "markdown",
   "metadata": {},
   "source": [
    "Esto nos permite obtener una visión general, rápida y concisa del marco de datos. Proporcionando información clave sobre la distribución de los datos, incluyendo métricas como la desviación estándar, la media y otras estadísticas descriptivas.\n"
   ]
  },
  {
   "cell_type": "code",
   "execution_count": 8,
   "id": "7ab67ea9-69b8-44f4-b7dc-4e548a925b20",
   "metadata": {},
   "outputs": [
    {
     "data": {
      "text/html": [
       "<div>\n",
       "<style scoped>\n",
       "    .dataframe tbody tr th:only-of-type {\n",
       "        vertical-align: middle;\n",
       "    }\n",
       "\n",
       "    .dataframe tbody tr th {\n",
       "        vertical-align: top;\n",
       "    }\n",
       "\n",
       "    .dataframe thead th {\n",
       "        text-align: right;\n",
       "    }\n",
       "</style>\n",
       "<table border=\"1\" class=\"dataframe\">\n",
       "  <thead>\n",
       "    <tr style=\"text-align: right;\">\n",
       "      <th></th>\n",
       "      <th>Unnamed: 0</th>\n",
       "      <th>id</th>\n",
       "      <th>price</th>\n",
       "      <th>bedrooms</th>\n",
       "      <th>bathrooms</th>\n",
       "      <th>sqft_living</th>\n",
       "      <th>sqft_lot</th>\n",
       "      <th>floors</th>\n",
       "      <th>waterfront</th>\n",
       "      <th>view</th>\n",
       "      <th>...</th>\n",
       "      <th>grade</th>\n",
       "      <th>sqft_above</th>\n",
       "      <th>sqft_basement</th>\n",
       "      <th>yr_built</th>\n",
       "      <th>yr_renovated</th>\n",
       "      <th>zipcode</th>\n",
       "      <th>lat</th>\n",
       "      <th>long</th>\n",
       "      <th>sqft_living15</th>\n",
       "      <th>sqft_lot15</th>\n",
       "    </tr>\n",
       "  </thead>\n",
       "  <tbody>\n",
       "    <tr>\n",
       "      <th>count</th>\n",
       "      <td>21613.00000</td>\n",
       "      <td>2.161300e+04</td>\n",
       "      <td>2.161300e+04</td>\n",
       "      <td>21600.000000</td>\n",
       "      <td>21603.000000</td>\n",
       "      <td>21613.000000</td>\n",
       "      <td>2.161300e+04</td>\n",
       "      <td>21613.000000</td>\n",
       "      <td>21613.000000</td>\n",
       "      <td>21613.000000</td>\n",
       "      <td>...</td>\n",
       "      <td>21613.000000</td>\n",
       "      <td>21613.000000</td>\n",
       "      <td>21613.000000</td>\n",
       "      <td>21613.000000</td>\n",
       "      <td>21613.000000</td>\n",
       "      <td>21613.000000</td>\n",
       "      <td>21613.000000</td>\n",
       "      <td>21613.000000</td>\n",
       "      <td>21613.000000</td>\n",
       "      <td>21613.000000</td>\n",
       "    </tr>\n",
       "    <tr>\n",
       "      <th>mean</th>\n",
       "      <td>10806.00000</td>\n",
       "      <td>4.580302e+09</td>\n",
       "      <td>5.400881e+05</td>\n",
       "      <td>3.372870</td>\n",
       "      <td>2.115736</td>\n",
       "      <td>2079.899736</td>\n",
       "      <td>1.510697e+04</td>\n",
       "      <td>1.494309</td>\n",
       "      <td>0.007542</td>\n",
       "      <td>0.234303</td>\n",
       "      <td>...</td>\n",
       "      <td>7.656873</td>\n",
       "      <td>1788.390691</td>\n",
       "      <td>291.509045</td>\n",
       "      <td>1971.005136</td>\n",
       "      <td>84.402258</td>\n",
       "      <td>98077.939805</td>\n",
       "      <td>47.560053</td>\n",
       "      <td>-122.213896</td>\n",
       "      <td>1986.552492</td>\n",
       "      <td>12768.455652</td>\n",
       "    </tr>\n",
       "    <tr>\n",
       "      <th>std</th>\n",
       "      <td>6239.28002</td>\n",
       "      <td>2.876566e+09</td>\n",
       "      <td>3.671272e+05</td>\n",
       "      <td>0.926657</td>\n",
       "      <td>0.768996</td>\n",
       "      <td>918.440897</td>\n",
       "      <td>4.142051e+04</td>\n",
       "      <td>0.539989</td>\n",
       "      <td>0.086517</td>\n",
       "      <td>0.766318</td>\n",
       "      <td>...</td>\n",
       "      <td>1.175459</td>\n",
       "      <td>828.090978</td>\n",
       "      <td>442.575043</td>\n",
       "      <td>29.373411</td>\n",
       "      <td>401.679240</td>\n",
       "      <td>53.505026</td>\n",
       "      <td>0.138564</td>\n",
       "      <td>0.140828</td>\n",
       "      <td>685.391304</td>\n",
       "      <td>27304.179631</td>\n",
       "    </tr>\n",
       "    <tr>\n",
       "      <th>min</th>\n",
       "      <td>0.00000</td>\n",
       "      <td>1.000102e+06</td>\n",
       "      <td>7.500000e+04</td>\n",
       "      <td>1.000000</td>\n",
       "      <td>0.500000</td>\n",
       "      <td>290.000000</td>\n",
       "      <td>5.200000e+02</td>\n",
       "      <td>1.000000</td>\n",
       "      <td>0.000000</td>\n",
       "      <td>0.000000</td>\n",
       "      <td>...</td>\n",
       "      <td>1.000000</td>\n",
       "      <td>290.000000</td>\n",
       "      <td>0.000000</td>\n",
       "      <td>1900.000000</td>\n",
       "      <td>0.000000</td>\n",
       "      <td>98001.000000</td>\n",
       "      <td>47.155900</td>\n",
       "      <td>-122.519000</td>\n",
       "      <td>399.000000</td>\n",
       "      <td>651.000000</td>\n",
       "    </tr>\n",
       "    <tr>\n",
       "      <th>25%</th>\n",
       "      <td>5403.00000</td>\n",
       "      <td>2.123049e+09</td>\n",
       "      <td>3.219500e+05</td>\n",
       "      <td>3.000000</td>\n",
       "      <td>1.750000</td>\n",
       "      <td>1427.000000</td>\n",
       "      <td>5.040000e+03</td>\n",
       "      <td>1.000000</td>\n",
       "      <td>0.000000</td>\n",
       "      <td>0.000000</td>\n",
       "      <td>...</td>\n",
       "      <td>7.000000</td>\n",
       "      <td>1190.000000</td>\n",
       "      <td>0.000000</td>\n",
       "      <td>1951.000000</td>\n",
       "      <td>0.000000</td>\n",
       "      <td>98033.000000</td>\n",
       "      <td>47.471000</td>\n",
       "      <td>-122.328000</td>\n",
       "      <td>1490.000000</td>\n",
       "      <td>5100.000000</td>\n",
       "    </tr>\n",
       "    <tr>\n",
       "      <th>50%</th>\n",
       "      <td>10806.00000</td>\n",
       "      <td>3.904930e+09</td>\n",
       "      <td>4.500000e+05</td>\n",
       "      <td>3.000000</td>\n",
       "      <td>2.250000</td>\n",
       "      <td>1910.000000</td>\n",
       "      <td>7.618000e+03</td>\n",
       "      <td>1.500000</td>\n",
       "      <td>0.000000</td>\n",
       "      <td>0.000000</td>\n",
       "      <td>...</td>\n",
       "      <td>7.000000</td>\n",
       "      <td>1560.000000</td>\n",
       "      <td>0.000000</td>\n",
       "      <td>1975.000000</td>\n",
       "      <td>0.000000</td>\n",
       "      <td>98065.000000</td>\n",
       "      <td>47.571800</td>\n",
       "      <td>-122.230000</td>\n",
       "      <td>1840.000000</td>\n",
       "      <td>7620.000000</td>\n",
       "    </tr>\n",
       "    <tr>\n",
       "      <th>75%</th>\n",
       "      <td>16209.00000</td>\n",
       "      <td>7.308900e+09</td>\n",
       "      <td>6.450000e+05</td>\n",
       "      <td>4.000000</td>\n",
       "      <td>2.500000</td>\n",
       "      <td>2550.000000</td>\n",
       "      <td>1.068800e+04</td>\n",
       "      <td>2.000000</td>\n",
       "      <td>0.000000</td>\n",
       "      <td>0.000000</td>\n",
       "      <td>...</td>\n",
       "      <td>8.000000</td>\n",
       "      <td>2210.000000</td>\n",
       "      <td>560.000000</td>\n",
       "      <td>1997.000000</td>\n",
       "      <td>0.000000</td>\n",
       "      <td>98118.000000</td>\n",
       "      <td>47.678000</td>\n",
       "      <td>-122.125000</td>\n",
       "      <td>2360.000000</td>\n",
       "      <td>10083.000000</td>\n",
       "    </tr>\n",
       "    <tr>\n",
       "      <th>max</th>\n",
       "      <td>21612.00000</td>\n",
       "      <td>9.900000e+09</td>\n",
       "      <td>7.700000e+06</td>\n",
       "      <td>33.000000</td>\n",
       "      <td>8.000000</td>\n",
       "      <td>13540.000000</td>\n",
       "      <td>1.651359e+06</td>\n",
       "      <td>3.500000</td>\n",
       "      <td>1.000000</td>\n",
       "      <td>4.000000</td>\n",
       "      <td>...</td>\n",
       "      <td>13.000000</td>\n",
       "      <td>9410.000000</td>\n",
       "      <td>4820.000000</td>\n",
       "      <td>2015.000000</td>\n",
       "      <td>2015.000000</td>\n",
       "      <td>98199.000000</td>\n",
       "      <td>47.777600</td>\n",
       "      <td>-121.315000</td>\n",
       "      <td>6210.000000</td>\n",
       "      <td>871200.000000</td>\n",
       "    </tr>\n",
       "  </tbody>\n",
       "</table>\n",
       "<p>8 rows × 21 columns</p>\n",
       "</div>"
      ],
      "text/plain": [
       "        Unnamed: 0            id         price      bedrooms     bathrooms  \\\n",
       "count  21613.00000  2.161300e+04  2.161300e+04  21600.000000  21603.000000   \n",
       "mean   10806.00000  4.580302e+09  5.400881e+05      3.372870      2.115736   \n",
       "std     6239.28002  2.876566e+09  3.671272e+05      0.926657      0.768996   \n",
       "min        0.00000  1.000102e+06  7.500000e+04      1.000000      0.500000   \n",
       "25%     5403.00000  2.123049e+09  3.219500e+05      3.000000      1.750000   \n",
       "50%    10806.00000  3.904930e+09  4.500000e+05      3.000000      2.250000   \n",
       "75%    16209.00000  7.308900e+09  6.450000e+05      4.000000      2.500000   \n",
       "max    21612.00000  9.900000e+09  7.700000e+06     33.000000      8.000000   \n",
       "\n",
       "        sqft_living      sqft_lot        floors    waterfront          view  \\\n",
       "count  21613.000000  2.161300e+04  21613.000000  21613.000000  21613.000000   \n",
       "mean    2079.899736  1.510697e+04      1.494309      0.007542      0.234303   \n",
       "std      918.440897  4.142051e+04      0.539989      0.086517      0.766318   \n",
       "min      290.000000  5.200000e+02      1.000000      0.000000      0.000000   \n",
       "25%     1427.000000  5.040000e+03      1.000000      0.000000      0.000000   \n",
       "50%     1910.000000  7.618000e+03      1.500000      0.000000      0.000000   \n",
       "75%     2550.000000  1.068800e+04      2.000000      0.000000      0.000000   \n",
       "max    13540.000000  1.651359e+06      3.500000      1.000000      4.000000   \n",
       "\n",
       "       ...         grade    sqft_above  sqft_basement      yr_built  \\\n",
       "count  ...  21613.000000  21613.000000   21613.000000  21613.000000   \n",
       "mean   ...      7.656873   1788.390691     291.509045   1971.005136   \n",
       "std    ...      1.175459    828.090978     442.575043     29.373411   \n",
       "min    ...      1.000000    290.000000       0.000000   1900.000000   \n",
       "25%    ...      7.000000   1190.000000       0.000000   1951.000000   \n",
       "50%    ...      7.000000   1560.000000       0.000000   1975.000000   \n",
       "75%    ...      8.000000   2210.000000     560.000000   1997.000000   \n",
       "max    ...     13.000000   9410.000000    4820.000000   2015.000000   \n",
       "\n",
       "       yr_renovated       zipcode           lat          long  sqft_living15  \\\n",
       "count  21613.000000  21613.000000  21613.000000  21613.000000   21613.000000   \n",
       "mean      84.402258  98077.939805     47.560053   -122.213896    1986.552492   \n",
       "std      401.679240     53.505026      0.138564      0.140828     685.391304   \n",
       "min        0.000000  98001.000000     47.155900   -122.519000     399.000000   \n",
       "25%        0.000000  98033.000000     47.471000   -122.328000    1490.000000   \n",
       "50%        0.000000  98065.000000     47.571800   -122.230000    1840.000000   \n",
       "75%        0.000000  98118.000000     47.678000   -122.125000    2360.000000   \n",
       "max     2015.000000  98199.000000     47.777600   -121.315000    6210.000000   \n",
       "\n",
       "          sqft_lot15  \n",
       "count   21613.000000  \n",
       "mean    12768.455652  \n",
       "std     27304.179631  \n",
       "min       651.000000  \n",
       "25%      5100.000000  \n",
       "50%      7620.000000  \n",
       "75%     10083.000000  \n",
       "max    871200.000000  \n",
       "\n",
       "[8 rows x 21 columns]"
      ]
     },
     "execution_count": 8,
     "metadata": {},
     "output_type": "execute_result"
    }
   ],
   "source": [
    "df.describe()"
   ]
  },
  {
   "cell_type": "markdown",
   "metadata": {},
   "source": [
    "<br>"
   ]
  },
  {
   "cell_type": "markdown",
   "metadata": {},
   "source": [
    "<br>"
   ]
  },
  {
   "cell_type": "markdown",
   "id": "1b163648-f3d9-4039-85d9-e007e9e8dcb2",
   "metadata": {},
   "source": [
    "## Parte 2: Manipulación de datos\n"
   ]
  },
  {
   "cell_type": "markdown",
   "metadata": {},
   "source": [
    "Una vez que ya tenemos nuestros datos podemos comenzar a trabajarlos. \n",
    "\n",
    "Como primera medida vamos a normalizar los datos, es decir, decidir si tenemos que limpiar, completar o formatear las columnas y/o valores que pudieran alterar nuestro análisis."
   ]
  },
  {
   "cell_type": "markdown",
   "metadata": {},
   "source": [
    "### Formateo de datos \n",
    "Como ya vimos con el metodo ``describe()`` tenemos la única columna 'date' en formato ``object`` es decir como una variable categorica la cual esta compuesta por strings.\n",
    "Debemos formatearla a un tipo de dato numérico (int o float) para que no afecte el analisis. Para las fechas tenemos el tipo de dato `datetime`."
   ]
  },
  {
   "cell_type": "code",
   "execution_count": 9,
   "metadata": {},
   "outputs": [
    {
     "name": "stdout",
     "output_type": "stream",
     "text": [
      "Fecha formateada de object a: datetime64[ns]\n"
     ]
    }
   ],
   "source": [
    "# Formateamos la columna 'date' a formato datetime\n",
    "df['date'] = pd.to_datetime(df['date'], format='%Y%m%dT%H%M%S')\n",
    "\n",
    "# Verificamos que se haya hecho la conversión\n",
    "print(f'Fecha formateada de object a: {df[\"date\"].dtype}')"
   ]
  },
  {
   "cell_type": "markdown",
   "metadata": {},
   "source": [
    "Corroboramos que ahora el método `describe()` si tiene encuenta la columna ``date``. Ya que dicho método solo tiene en cuenta columnas de tipo numérico (int, float o datetime)."
   ]
  },
  {
   "cell_type": "code",
   "execution_count": 10,
   "metadata": {},
   "outputs": [
    {
     "data": {
      "text/html": [
       "<div>\n",
       "<style scoped>\n",
       "    .dataframe tbody tr th:only-of-type {\n",
       "        vertical-align: middle;\n",
       "    }\n",
       "\n",
       "    .dataframe tbody tr th {\n",
       "        vertical-align: top;\n",
       "    }\n",
       "\n",
       "    .dataframe thead th {\n",
       "        text-align: right;\n",
       "    }\n",
       "</style>\n",
       "<table border=\"1\" class=\"dataframe\">\n",
       "  <thead>\n",
       "    <tr style=\"text-align: right;\">\n",
       "      <th></th>\n",
       "      <th>Unnamed: 0</th>\n",
       "      <th>id</th>\n",
       "      <th>date</th>\n",
       "      <th>price</th>\n",
       "      <th>bedrooms</th>\n",
       "      <th>bathrooms</th>\n",
       "      <th>sqft_living</th>\n",
       "      <th>sqft_lot</th>\n",
       "      <th>floors</th>\n",
       "      <th>waterfront</th>\n",
       "      <th>...</th>\n",
       "      <th>grade</th>\n",
       "      <th>sqft_above</th>\n",
       "      <th>sqft_basement</th>\n",
       "      <th>yr_built</th>\n",
       "      <th>yr_renovated</th>\n",
       "      <th>zipcode</th>\n",
       "      <th>lat</th>\n",
       "      <th>long</th>\n",
       "      <th>sqft_living15</th>\n",
       "      <th>sqft_lot15</th>\n",
       "    </tr>\n",
       "  </thead>\n",
       "  <tbody>\n",
       "    <tr>\n",
       "      <th>count</th>\n",
       "      <td>21613.00000</td>\n",
       "      <td>2.161300e+04</td>\n",
       "      <td>21613</td>\n",
       "      <td>2.161300e+04</td>\n",
       "      <td>21600.000000</td>\n",
       "      <td>21603.000000</td>\n",
       "      <td>21613.000000</td>\n",
       "      <td>2.161300e+04</td>\n",
       "      <td>21613.000000</td>\n",
       "      <td>21613.000000</td>\n",
       "      <td>...</td>\n",
       "      <td>21613.000000</td>\n",
       "      <td>21613.000000</td>\n",
       "      <td>21613.000000</td>\n",
       "      <td>21613.000000</td>\n",
       "      <td>21613.000000</td>\n",
       "      <td>21613.000000</td>\n",
       "      <td>21613.000000</td>\n",
       "      <td>21613.000000</td>\n",
       "      <td>21613.000000</td>\n",
       "      <td>21613.000000</td>\n",
       "    </tr>\n",
       "    <tr>\n",
       "      <th>mean</th>\n",
       "      <td>10806.00000</td>\n",
       "      <td>4.580302e+09</td>\n",
       "      <td>2014-10-29 04:38:01.959931648</td>\n",
       "      <td>5.400881e+05</td>\n",
       "      <td>3.372870</td>\n",
       "      <td>2.115736</td>\n",
       "      <td>2079.899736</td>\n",
       "      <td>1.510697e+04</td>\n",
       "      <td>1.494309</td>\n",
       "      <td>0.007542</td>\n",
       "      <td>...</td>\n",
       "      <td>7.656873</td>\n",
       "      <td>1788.390691</td>\n",
       "      <td>291.509045</td>\n",
       "      <td>1971.005136</td>\n",
       "      <td>84.402258</td>\n",
       "      <td>98077.939805</td>\n",
       "      <td>47.560053</td>\n",
       "      <td>-122.213896</td>\n",
       "      <td>1986.552492</td>\n",
       "      <td>12768.455652</td>\n",
       "    </tr>\n",
       "    <tr>\n",
       "      <th>min</th>\n",
       "      <td>0.00000</td>\n",
       "      <td>1.000102e+06</td>\n",
       "      <td>2014-05-02 00:00:00</td>\n",
       "      <td>7.500000e+04</td>\n",
       "      <td>1.000000</td>\n",
       "      <td>0.500000</td>\n",
       "      <td>290.000000</td>\n",
       "      <td>5.200000e+02</td>\n",
       "      <td>1.000000</td>\n",
       "      <td>0.000000</td>\n",
       "      <td>...</td>\n",
       "      <td>1.000000</td>\n",
       "      <td>290.000000</td>\n",
       "      <td>0.000000</td>\n",
       "      <td>1900.000000</td>\n",
       "      <td>0.000000</td>\n",
       "      <td>98001.000000</td>\n",
       "      <td>47.155900</td>\n",
       "      <td>-122.519000</td>\n",
       "      <td>399.000000</td>\n",
       "      <td>651.000000</td>\n",
       "    </tr>\n",
       "    <tr>\n",
       "      <th>25%</th>\n",
       "      <td>5403.00000</td>\n",
       "      <td>2.123049e+09</td>\n",
       "      <td>2014-07-22 00:00:00</td>\n",
       "      <td>3.219500e+05</td>\n",
       "      <td>3.000000</td>\n",
       "      <td>1.750000</td>\n",
       "      <td>1427.000000</td>\n",
       "      <td>5.040000e+03</td>\n",
       "      <td>1.000000</td>\n",
       "      <td>0.000000</td>\n",
       "      <td>...</td>\n",
       "      <td>7.000000</td>\n",
       "      <td>1190.000000</td>\n",
       "      <td>0.000000</td>\n",
       "      <td>1951.000000</td>\n",
       "      <td>0.000000</td>\n",
       "      <td>98033.000000</td>\n",
       "      <td>47.471000</td>\n",
       "      <td>-122.328000</td>\n",
       "      <td>1490.000000</td>\n",
       "      <td>5100.000000</td>\n",
       "    </tr>\n",
       "    <tr>\n",
       "      <th>50%</th>\n",
       "      <td>10806.00000</td>\n",
       "      <td>3.904930e+09</td>\n",
       "      <td>2014-10-16 00:00:00</td>\n",
       "      <td>4.500000e+05</td>\n",
       "      <td>3.000000</td>\n",
       "      <td>2.250000</td>\n",
       "      <td>1910.000000</td>\n",
       "      <td>7.618000e+03</td>\n",
       "      <td>1.500000</td>\n",
       "      <td>0.000000</td>\n",
       "      <td>...</td>\n",
       "      <td>7.000000</td>\n",
       "      <td>1560.000000</td>\n",
       "      <td>0.000000</td>\n",
       "      <td>1975.000000</td>\n",
       "      <td>0.000000</td>\n",
       "      <td>98065.000000</td>\n",
       "      <td>47.571800</td>\n",
       "      <td>-122.230000</td>\n",
       "      <td>1840.000000</td>\n",
       "      <td>7620.000000</td>\n",
       "    </tr>\n",
       "    <tr>\n",
       "      <th>75%</th>\n",
       "      <td>16209.00000</td>\n",
       "      <td>7.308900e+09</td>\n",
       "      <td>2015-02-17 00:00:00</td>\n",
       "      <td>6.450000e+05</td>\n",
       "      <td>4.000000</td>\n",
       "      <td>2.500000</td>\n",
       "      <td>2550.000000</td>\n",
       "      <td>1.068800e+04</td>\n",
       "      <td>2.000000</td>\n",
       "      <td>0.000000</td>\n",
       "      <td>...</td>\n",
       "      <td>8.000000</td>\n",
       "      <td>2210.000000</td>\n",
       "      <td>560.000000</td>\n",
       "      <td>1997.000000</td>\n",
       "      <td>0.000000</td>\n",
       "      <td>98118.000000</td>\n",
       "      <td>47.678000</td>\n",
       "      <td>-122.125000</td>\n",
       "      <td>2360.000000</td>\n",
       "      <td>10083.000000</td>\n",
       "    </tr>\n",
       "    <tr>\n",
       "      <th>max</th>\n",
       "      <td>21612.00000</td>\n",
       "      <td>9.900000e+09</td>\n",
       "      <td>2015-05-27 00:00:00</td>\n",
       "      <td>7.700000e+06</td>\n",
       "      <td>33.000000</td>\n",
       "      <td>8.000000</td>\n",
       "      <td>13540.000000</td>\n",
       "      <td>1.651359e+06</td>\n",
       "      <td>3.500000</td>\n",
       "      <td>1.000000</td>\n",
       "      <td>...</td>\n",
       "      <td>13.000000</td>\n",
       "      <td>9410.000000</td>\n",
       "      <td>4820.000000</td>\n",
       "      <td>2015.000000</td>\n",
       "      <td>2015.000000</td>\n",
       "      <td>98199.000000</td>\n",
       "      <td>47.777600</td>\n",
       "      <td>-121.315000</td>\n",
       "      <td>6210.000000</td>\n",
       "      <td>871200.000000</td>\n",
       "    </tr>\n",
       "    <tr>\n",
       "      <th>std</th>\n",
       "      <td>6239.28002</td>\n",
       "      <td>2.876566e+09</td>\n",
       "      <td>NaN</td>\n",
       "      <td>3.671272e+05</td>\n",
       "      <td>0.926657</td>\n",
       "      <td>0.768996</td>\n",
       "      <td>918.440897</td>\n",
       "      <td>4.142051e+04</td>\n",
       "      <td>0.539989</td>\n",
       "      <td>0.086517</td>\n",
       "      <td>...</td>\n",
       "      <td>1.175459</td>\n",
       "      <td>828.090978</td>\n",
       "      <td>442.575043</td>\n",
       "      <td>29.373411</td>\n",
       "      <td>401.679240</td>\n",
       "      <td>53.505026</td>\n",
       "      <td>0.138564</td>\n",
       "      <td>0.140828</td>\n",
       "      <td>685.391304</td>\n",
       "      <td>27304.179631</td>\n",
       "    </tr>\n",
       "  </tbody>\n",
       "</table>\n",
       "<p>8 rows × 22 columns</p>\n",
       "</div>"
      ],
      "text/plain": [
       "        Unnamed: 0            id                           date         price  \\\n",
       "count  21613.00000  2.161300e+04                          21613  2.161300e+04   \n",
       "mean   10806.00000  4.580302e+09  2014-10-29 04:38:01.959931648  5.400881e+05   \n",
       "min        0.00000  1.000102e+06            2014-05-02 00:00:00  7.500000e+04   \n",
       "25%     5403.00000  2.123049e+09            2014-07-22 00:00:00  3.219500e+05   \n",
       "50%    10806.00000  3.904930e+09            2014-10-16 00:00:00  4.500000e+05   \n",
       "75%    16209.00000  7.308900e+09            2015-02-17 00:00:00  6.450000e+05   \n",
       "max    21612.00000  9.900000e+09            2015-05-27 00:00:00  7.700000e+06   \n",
       "std     6239.28002  2.876566e+09                            NaN  3.671272e+05   \n",
       "\n",
       "           bedrooms     bathrooms   sqft_living      sqft_lot        floors  \\\n",
       "count  21600.000000  21603.000000  21613.000000  2.161300e+04  21613.000000   \n",
       "mean       3.372870      2.115736   2079.899736  1.510697e+04      1.494309   \n",
       "min        1.000000      0.500000    290.000000  5.200000e+02      1.000000   \n",
       "25%        3.000000      1.750000   1427.000000  5.040000e+03      1.000000   \n",
       "50%        3.000000      2.250000   1910.000000  7.618000e+03      1.500000   \n",
       "75%        4.000000      2.500000   2550.000000  1.068800e+04      2.000000   \n",
       "max       33.000000      8.000000  13540.000000  1.651359e+06      3.500000   \n",
       "std        0.926657      0.768996    918.440897  4.142051e+04      0.539989   \n",
       "\n",
       "         waterfront  ...         grade    sqft_above  sqft_basement  \\\n",
       "count  21613.000000  ...  21613.000000  21613.000000   21613.000000   \n",
       "mean       0.007542  ...      7.656873   1788.390691     291.509045   \n",
       "min        0.000000  ...      1.000000    290.000000       0.000000   \n",
       "25%        0.000000  ...      7.000000   1190.000000       0.000000   \n",
       "50%        0.000000  ...      7.000000   1560.000000       0.000000   \n",
       "75%        0.000000  ...      8.000000   2210.000000     560.000000   \n",
       "max        1.000000  ...     13.000000   9410.000000    4820.000000   \n",
       "std        0.086517  ...      1.175459    828.090978     442.575043   \n",
       "\n",
       "           yr_built  yr_renovated       zipcode           lat          long  \\\n",
       "count  21613.000000  21613.000000  21613.000000  21613.000000  21613.000000   \n",
       "mean    1971.005136     84.402258  98077.939805     47.560053   -122.213896   \n",
       "min     1900.000000      0.000000  98001.000000     47.155900   -122.519000   \n",
       "25%     1951.000000      0.000000  98033.000000     47.471000   -122.328000   \n",
       "50%     1975.000000      0.000000  98065.000000     47.571800   -122.230000   \n",
       "75%     1997.000000      0.000000  98118.000000     47.678000   -122.125000   \n",
       "max     2015.000000   2015.000000  98199.000000     47.777600   -121.315000   \n",
       "std       29.373411    401.679240     53.505026      0.138564      0.140828   \n",
       "\n",
       "       sqft_living15     sqft_lot15  \n",
       "count   21613.000000   21613.000000  \n",
       "mean     1986.552492   12768.455652  \n",
       "min       399.000000     651.000000  \n",
       "25%      1490.000000    5100.000000  \n",
       "50%      1840.000000    7620.000000  \n",
       "75%      2360.000000   10083.000000  \n",
       "max      6210.000000  871200.000000  \n",
       "std       685.391304   27304.179631  \n",
       "\n",
       "[8 rows x 22 columns]"
      ]
     },
     "execution_count": 10,
     "metadata": {},
     "output_type": "execute_result"
    }
   ],
   "source": [
    "df.describe()"
   ]
  },
  {
   "cell_type": "markdown",
   "id": "5972cd4f-4daa-44b7-8fac-a160fd1b9be2",
   "metadata": {},
   "source": [
    "### Eliminar datos innecesarios\n",
    "Vamos a identificar y eliminar las columnas o filas innecesarias, o que por lo menos no influyen directamente en los datos del dataset como en este caso <code>\"id\"</code> y <code>\"Unnamed: 0\"</code> ó <code>\"date\"</code>, la cual especifíca el dia en que se vendió la casa.\n"
   ]
  },
  {
   "cell_type": "markdown",
   "metadata": {},
   "source": [
    "> **Nota:**  \n",
    "> Aunque podríamos haber omitido el primer paso, se decidió realizarlo de todas formas como una demostración práctica de cómo proceder en situaciones donde esta variable necesite ser formateada.\n"
   ]
  },
  {
   "cell_type": "code",
   "execution_count": 11,
   "id": "47f133b4-2e0b-4f55-aef3-ae77a580e653",
   "metadata": {},
   "outputs": [
    {
     "name": "stdout",
     "output_type": "stream",
     "text": [
      "Las columnas han sido eliminadas.\n"
     ]
    }
   ],
   "source": [
    "# Eliminamos las datos irrelevantes, en este caso la columna 'id', 'Unnamed: 0' y 'date'\n",
    "try:\n",
    "    df.drop(columns='id', inplace=True)\n",
    "    df.drop(columns='Unnamed: 0', inplace=True)\n",
    "    df.drop(columns='date', inplace=True)\n",
    "    print('Las columnas han sido eliminadas.')\n",
    "except KeyError:\n",
    "    print('Las columnas ya han sido eliminadas.')"
   ]
  },
  {
   "cell_type": "code",
   "execution_count": 12,
   "metadata": {},
   "outputs": [
    {
     "data": {
      "text/html": [
       "<div>\n",
       "<style scoped>\n",
       "    .dataframe tbody tr th:only-of-type {\n",
       "        vertical-align: middle;\n",
       "    }\n",
       "\n",
       "    .dataframe tbody tr th {\n",
       "        vertical-align: top;\n",
       "    }\n",
       "\n",
       "    .dataframe thead th {\n",
       "        text-align: right;\n",
       "    }\n",
       "</style>\n",
       "<table border=\"1\" class=\"dataframe\">\n",
       "  <thead>\n",
       "    <tr style=\"text-align: right;\">\n",
       "      <th></th>\n",
       "      <th>price</th>\n",
       "      <th>bedrooms</th>\n",
       "      <th>bathrooms</th>\n",
       "      <th>sqft_living</th>\n",
       "      <th>sqft_lot</th>\n",
       "      <th>floors</th>\n",
       "      <th>waterfront</th>\n",
       "      <th>view</th>\n",
       "      <th>condition</th>\n",
       "      <th>grade</th>\n",
       "      <th>sqft_above</th>\n",
       "      <th>sqft_basement</th>\n",
       "      <th>yr_built</th>\n",
       "      <th>yr_renovated</th>\n",
       "      <th>zipcode</th>\n",
       "      <th>lat</th>\n",
       "      <th>long</th>\n",
       "      <th>sqft_living15</th>\n",
       "      <th>sqft_lot15</th>\n",
       "    </tr>\n",
       "  </thead>\n",
       "  <tbody>\n",
       "    <tr>\n",
       "      <th>0</th>\n",
       "      <td>221900.0</td>\n",
       "      <td>3.0</td>\n",
       "      <td>1.00</td>\n",
       "      <td>1180</td>\n",
       "      <td>5650</td>\n",
       "      <td>1.0</td>\n",
       "      <td>0</td>\n",
       "      <td>0</td>\n",
       "      <td>3</td>\n",
       "      <td>7</td>\n",
       "      <td>1180</td>\n",
       "      <td>0</td>\n",
       "      <td>1955</td>\n",
       "      <td>0</td>\n",
       "      <td>98178</td>\n",
       "      <td>47.5112</td>\n",
       "      <td>-122.257</td>\n",
       "      <td>1340</td>\n",
       "      <td>5650</td>\n",
       "    </tr>\n",
       "    <tr>\n",
       "      <th>1</th>\n",
       "      <td>538000.0</td>\n",
       "      <td>3.0</td>\n",
       "      <td>2.25</td>\n",
       "      <td>2570</td>\n",
       "      <td>7242</td>\n",
       "      <td>2.0</td>\n",
       "      <td>0</td>\n",
       "      <td>0</td>\n",
       "      <td>3</td>\n",
       "      <td>7</td>\n",
       "      <td>2170</td>\n",
       "      <td>400</td>\n",
       "      <td>1951</td>\n",
       "      <td>1991</td>\n",
       "      <td>98125</td>\n",
       "      <td>47.7210</td>\n",
       "      <td>-122.319</td>\n",
       "      <td>1690</td>\n",
       "      <td>7639</td>\n",
       "    </tr>\n",
       "    <tr>\n",
       "      <th>2</th>\n",
       "      <td>180000.0</td>\n",
       "      <td>2.0</td>\n",
       "      <td>1.00</td>\n",
       "      <td>770</td>\n",
       "      <td>10000</td>\n",
       "      <td>1.0</td>\n",
       "      <td>0</td>\n",
       "      <td>0</td>\n",
       "      <td>3</td>\n",
       "      <td>6</td>\n",
       "      <td>770</td>\n",
       "      <td>0</td>\n",
       "      <td>1933</td>\n",
       "      <td>0</td>\n",
       "      <td>98028</td>\n",
       "      <td>47.7379</td>\n",
       "      <td>-122.233</td>\n",
       "      <td>2720</td>\n",
       "      <td>8062</td>\n",
       "    </tr>\n",
       "    <tr>\n",
       "      <th>3</th>\n",
       "      <td>604000.0</td>\n",
       "      <td>4.0</td>\n",
       "      <td>3.00</td>\n",
       "      <td>1960</td>\n",
       "      <td>5000</td>\n",
       "      <td>1.0</td>\n",
       "      <td>0</td>\n",
       "      <td>0</td>\n",
       "      <td>5</td>\n",
       "      <td>7</td>\n",
       "      <td>1050</td>\n",
       "      <td>910</td>\n",
       "      <td>1965</td>\n",
       "      <td>0</td>\n",
       "      <td>98136</td>\n",
       "      <td>47.5208</td>\n",
       "      <td>-122.393</td>\n",
       "      <td>1360</td>\n",
       "      <td>5000</td>\n",
       "    </tr>\n",
       "    <tr>\n",
       "      <th>4</th>\n",
       "      <td>510000.0</td>\n",
       "      <td>3.0</td>\n",
       "      <td>2.00</td>\n",
       "      <td>1680</td>\n",
       "      <td>8080</td>\n",
       "      <td>1.0</td>\n",
       "      <td>0</td>\n",
       "      <td>0</td>\n",
       "      <td>3</td>\n",
       "      <td>8</td>\n",
       "      <td>1680</td>\n",
       "      <td>0</td>\n",
       "      <td>1987</td>\n",
       "      <td>0</td>\n",
       "      <td>98074</td>\n",
       "      <td>47.6168</td>\n",
       "      <td>-122.045</td>\n",
       "      <td>1800</td>\n",
       "      <td>7503</td>\n",
       "    </tr>\n",
       "  </tbody>\n",
       "</table>\n",
       "</div>"
      ],
      "text/plain": [
       "      price  bedrooms  bathrooms  sqft_living  sqft_lot  floors  waterfront  \\\n",
       "0  221900.0       3.0       1.00         1180      5650     1.0           0   \n",
       "1  538000.0       3.0       2.25         2570      7242     2.0           0   \n",
       "2  180000.0       2.0       1.00          770     10000     1.0           0   \n",
       "3  604000.0       4.0       3.00         1960      5000     1.0           0   \n",
       "4  510000.0       3.0       2.00         1680      8080     1.0           0   \n",
       "\n",
       "   view  condition  grade  sqft_above  sqft_basement  yr_built  yr_renovated  \\\n",
       "0     0          3      7        1180              0      1955             0   \n",
       "1     0          3      7        2170            400      1951          1991   \n",
       "2     0          3      6         770              0      1933             0   \n",
       "3     0          5      7        1050            910      1965             0   \n",
       "4     0          3      8        1680              0      1987             0   \n",
       "\n",
       "   zipcode      lat     long  sqft_living15  sqft_lot15  \n",
       "0    98178  47.5112 -122.257           1340        5650  \n",
       "1    98125  47.7210 -122.319           1690        7639  \n",
       "2    98028  47.7379 -122.233           2720        8062  \n",
       "3    98136  47.5208 -122.393           1360        5000  \n",
       "4    98074  47.6168 -122.045           1800        7503  "
      ]
     },
     "execution_count": 12,
     "metadata": {},
     "output_type": "execute_result"
    }
   ],
   "source": [
    "# verificamos que se eliminaron las columnas correctamente\n",
    "df.head()"
   ]
  },
  {
   "cell_type": "markdown",
   "metadata": {},
   "source": [
    "Volvemos a generar un resumen estadistico pero ahora sin las columnas que descartamos en el paso anterior."
   ]
  },
  {
   "cell_type": "code",
   "execution_count": 13,
   "metadata": {},
   "outputs": [
    {
     "data": {
      "text/html": [
       "<div>\n",
       "<style scoped>\n",
       "    .dataframe tbody tr th:only-of-type {\n",
       "        vertical-align: middle;\n",
       "    }\n",
       "\n",
       "    .dataframe tbody tr th {\n",
       "        vertical-align: top;\n",
       "    }\n",
       "\n",
       "    .dataframe thead th {\n",
       "        text-align: right;\n",
       "    }\n",
       "</style>\n",
       "<table border=\"1\" class=\"dataframe\">\n",
       "  <thead>\n",
       "    <tr style=\"text-align: right;\">\n",
       "      <th></th>\n",
       "      <th>price</th>\n",
       "      <th>bedrooms</th>\n",
       "      <th>bathrooms</th>\n",
       "      <th>sqft_living</th>\n",
       "      <th>sqft_lot</th>\n",
       "      <th>floors</th>\n",
       "      <th>waterfront</th>\n",
       "      <th>view</th>\n",
       "      <th>condition</th>\n",
       "      <th>grade</th>\n",
       "      <th>sqft_above</th>\n",
       "      <th>sqft_basement</th>\n",
       "      <th>yr_built</th>\n",
       "      <th>yr_renovated</th>\n",
       "      <th>zipcode</th>\n",
       "      <th>lat</th>\n",
       "      <th>long</th>\n",
       "      <th>sqft_living15</th>\n",
       "      <th>sqft_lot15</th>\n",
       "    </tr>\n",
       "  </thead>\n",
       "  <tbody>\n",
       "    <tr>\n",
       "      <th>count</th>\n",
       "      <td>2.161300e+04</td>\n",
       "      <td>21600.000000</td>\n",
       "      <td>21603.000000</td>\n",
       "      <td>21613.000000</td>\n",
       "      <td>2.161300e+04</td>\n",
       "      <td>21613.000000</td>\n",
       "      <td>21613.000000</td>\n",
       "      <td>21613.000000</td>\n",
       "      <td>21613.000000</td>\n",
       "      <td>21613.000000</td>\n",
       "      <td>21613.000000</td>\n",
       "      <td>21613.000000</td>\n",
       "      <td>21613.000000</td>\n",
       "      <td>21613.000000</td>\n",
       "      <td>21613.000000</td>\n",
       "      <td>21613.000000</td>\n",
       "      <td>21613.000000</td>\n",
       "      <td>21613.000000</td>\n",
       "      <td>21613.000000</td>\n",
       "    </tr>\n",
       "    <tr>\n",
       "      <th>mean</th>\n",
       "      <td>5.400881e+05</td>\n",
       "      <td>3.372870</td>\n",
       "      <td>2.115736</td>\n",
       "      <td>2079.899736</td>\n",
       "      <td>1.510697e+04</td>\n",
       "      <td>1.494309</td>\n",
       "      <td>0.007542</td>\n",
       "      <td>0.234303</td>\n",
       "      <td>3.409430</td>\n",
       "      <td>7.656873</td>\n",
       "      <td>1788.390691</td>\n",
       "      <td>291.509045</td>\n",
       "      <td>1971.005136</td>\n",
       "      <td>84.402258</td>\n",
       "      <td>98077.939805</td>\n",
       "      <td>47.560053</td>\n",
       "      <td>-122.213896</td>\n",
       "      <td>1986.552492</td>\n",
       "      <td>12768.455652</td>\n",
       "    </tr>\n",
       "    <tr>\n",
       "      <th>std</th>\n",
       "      <td>3.671272e+05</td>\n",
       "      <td>0.926657</td>\n",
       "      <td>0.768996</td>\n",
       "      <td>918.440897</td>\n",
       "      <td>4.142051e+04</td>\n",
       "      <td>0.539989</td>\n",
       "      <td>0.086517</td>\n",
       "      <td>0.766318</td>\n",
       "      <td>0.650743</td>\n",
       "      <td>1.175459</td>\n",
       "      <td>828.090978</td>\n",
       "      <td>442.575043</td>\n",
       "      <td>29.373411</td>\n",
       "      <td>401.679240</td>\n",
       "      <td>53.505026</td>\n",
       "      <td>0.138564</td>\n",
       "      <td>0.140828</td>\n",
       "      <td>685.391304</td>\n",
       "      <td>27304.179631</td>\n",
       "    </tr>\n",
       "    <tr>\n",
       "      <th>min</th>\n",
       "      <td>7.500000e+04</td>\n",
       "      <td>1.000000</td>\n",
       "      <td>0.500000</td>\n",
       "      <td>290.000000</td>\n",
       "      <td>5.200000e+02</td>\n",
       "      <td>1.000000</td>\n",
       "      <td>0.000000</td>\n",
       "      <td>0.000000</td>\n",
       "      <td>1.000000</td>\n",
       "      <td>1.000000</td>\n",
       "      <td>290.000000</td>\n",
       "      <td>0.000000</td>\n",
       "      <td>1900.000000</td>\n",
       "      <td>0.000000</td>\n",
       "      <td>98001.000000</td>\n",
       "      <td>47.155900</td>\n",
       "      <td>-122.519000</td>\n",
       "      <td>399.000000</td>\n",
       "      <td>651.000000</td>\n",
       "    </tr>\n",
       "    <tr>\n",
       "      <th>25%</th>\n",
       "      <td>3.219500e+05</td>\n",
       "      <td>3.000000</td>\n",
       "      <td>1.750000</td>\n",
       "      <td>1427.000000</td>\n",
       "      <td>5.040000e+03</td>\n",
       "      <td>1.000000</td>\n",
       "      <td>0.000000</td>\n",
       "      <td>0.000000</td>\n",
       "      <td>3.000000</td>\n",
       "      <td>7.000000</td>\n",
       "      <td>1190.000000</td>\n",
       "      <td>0.000000</td>\n",
       "      <td>1951.000000</td>\n",
       "      <td>0.000000</td>\n",
       "      <td>98033.000000</td>\n",
       "      <td>47.471000</td>\n",
       "      <td>-122.328000</td>\n",
       "      <td>1490.000000</td>\n",
       "      <td>5100.000000</td>\n",
       "    </tr>\n",
       "    <tr>\n",
       "      <th>50%</th>\n",
       "      <td>4.500000e+05</td>\n",
       "      <td>3.000000</td>\n",
       "      <td>2.250000</td>\n",
       "      <td>1910.000000</td>\n",
       "      <td>7.618000e+03</td>\n",
       "      <td>1.500000</td>\n",
       "      <td>0.000000</td>\n",
       "      <td>0.000000</td>\n",
       "      <td>3.000000</td>\n",
       "      <td>7.000000</td>\n",
       "      <td>1560.000000</td>\n",
       "      <td>0.000000</td>\n",
       "      <td>1975.000000</td>\n",
       "      <td>0.000000</td>\n",
       "      <td>98065.000000</td>\n",
       "      <td>47.571800</td>\n",
       "      <td>-122.230000</td>\n",
       "      <td>1840.000000</td>\n",
       "      <td>7620.000000</td>\n",
       "    </tr>\n",
       "    <tr>\n",
       "      <th>75%</th>\n",
       "      <td>6.450000e+05</td>\n",
       "      <td>4.000000</td>\n",
       "      <td>2.500000</td>\n",
       "      <td>2550.000000</td>\n",
       "      <td>1.068800e+04</td>\n",
       "      <td>2.000000</td>\n",
       "      <td>0.000000</td>\n",
       "      <td>0.000000</td>\n",
       "      <td>4.000000</td>\n",
       "      <td>8.000000</td>\n",
       "      <td>2210.000000</td>\n",
       "      <td>560.000000</td>\n",
       "      <td>1997.000000</td>\n",
       "      <td>0.000000</td>\n",
       "      <td>98118.000000</td>\n",
       "      <td>47.678000</td>\n",
       "      <td>-122.125000</td>\n",
       "      <td>2360.000000</td>\n",
       "      <td>10083.000000</td>\n",
       "    </tr>\n",
       "    <tr>\n",
       "      <th>max</th>\n",
       "      <td>7.700000e+06</td>\n",
       "      <td>33.000000</td>\n",
       "      <td>8.000000</td>\n",
       "      <td>13540.000000</td>\n",
       "      <td>1.651359e+06</td>\n",
       "      <td>3.500000</td>\n",
       "      <td>1.000000</td>\n",
       "      <td>4.000000</td>\n",
       "      <td>5.000000</td>\n",
       "      <td>13.000000</td>\n",
       "      <td>9410.000000</td>\n",
       "      <td>4820.000000</td>\n",
       "      <td>2015.000000</td>\n",
       "      <td>2015.000000</td>\n",
       "      <td>98199.000000</td>\n",
       "      <td>47.777600</td>\n",
       "      <td>-121.315000</td>\n",
       "      <td>6210.000000</td>\n",
       "      <td>871200.000000</td>\n",
       "    </tr>\n",
       "  </tbody>\n",
       "</table>\n",
       "</div>"
      ],
      "text/plain": [
       "              price      bedrooms     bathrooms   sqft_living      sqft_lot  \\\n",
       "count  2.161300e+04  21600.000000  21603.000000  21613.000000  2.161300e+04   \n",
       "mean   5.400881e+05      3.372870      2.115736   2079.899736  1.510697e+04   \n",
       "std    3.671272e+05      0.926657      0.768996    918.440897  4.142051e+04   \n",
       "min    7.500000e+04      1.000000      0.500000    290.000000  5.200000e+02   \n",
       "25%    3.219500e+05      3.000000      1.750000   1427.000000  5.040000e+03   \n",
       "50%    4.500000e+05      3.000000      2.250000   1910.000000  7.618000e+03   \n",
       "75%    6.450000e+05      4.000000      2.500000   2550.000000  1.068800e+04   \n",
       "max    7.700000e+06     33.000000      8.000000  13540.000000  1.651359e+06   \n",
       "\n",
       "             floors    waterfront          view     condition         grade  \\\n",
       "count  21613.000000  21613.000000  21613.000000  21613.000000  21613.000000   \n",
       "mean       1.494309      0.007542      0.234303      3.409430      7.656873   \n",
       "std        0.539989      0.086517      0.766318      0.650743      1.175459   \n",
       "min        1.000000      0.000000      0.000000      1.000000      1.000000   \n",
       "25%        1.000000      0.000000      0.000000      3.000000      7.000000   \n",
       "50%        1.500000      0.000000      0.000000      3.000000      7.000000   \n",
       "75%        2.000000      0.000000      0.000000      4.000000      8.000000   \n",
       "max        3.500000      1.000000      4.000000      5.000000     13.000000   \n",
       "\n",
       "         sqft_above  sqft_basement      yr_built  yr_renovated       zipcode  \\\n",
       "count  21613.000000   21613.000000  21613.000000  21613.000000  21613.000000   \n",
       "mean    1788.390691     291.509045   1971.005136     84.402258  98077.939805   \n",
       "std      828.090978     442.575043     29.373411    401.679240     53.505026   \n",
       "min      290.000000       0.000000   1900.000000      0.000000  98001.000000   \n",
       "25%     1190.000000       0.000000   1951.000000      0.000000  98033.000000   \n",
       "50%     1560.000000       0.000000   1975.000000      0.000000  98065.000000   \n",
       "75%     2210.000000     560.000000   1997.000000      0.000000  98118.000000   \n",
       "max     9410.000000    4820.000000   2015.000000   2015.000000  98199.000000   \n",
       "\n",
       "                lat          long  sqft_living15     sqft_lot15  \n",
       "count  21613.000000  21613.000000   21613.000000   21613.000000  \n",
       "mean      47.560053   -122.213896    1986.552492   12768.455652  \n",
       "std        0.138564      0.140828     685.391304   27304.179631  \n",
       "min       47.155900   -122.519000     399.000000     651.000000  \n",
       "25%       47.471000   -122.328000    1490.000000    5100.000000  \n",
       "50%       47.571800   -122.230000    1840.000000    7620.000000  \n",
       "75%       47.678000   -122.125000    2360.000000   10083.000000  \n",
       "max       47.777600   -121.315000    6210.000000  871200.000000  "
      ]
     },
     "execution_count": 13,
     "metadata": {},
     "output_type": "execute_result"
    }
   ],
   "source": [
    "df.describe()"
   ]
  },
  {
   "cell_type": "markdown",
   "id": "e3ca0911-c2ed-4ec7-8c80-5d8441b4e18d",
   "metadata": {},
   "source": [
    "### Identificar los valores NaN, nulos o faltantes\n",
    "Ahora buscamos los valores faltantes. Podemos ver que tenemos valores faltantes para las columnas <code> dormitorios</code> y <code> baños </code> observando la fila `count` donde tenemos 21600 y 21603 respectivamente en lugar de la cantidad total de filas del dataset que son de 21613.\n"
   ]
  },
  {
   "cell_type": "markdown",
   "metadata": {},
   "source": [
    "Verificamos esto:"
   ]
  },
  {
   "cell_type": "code",
   "execution_count": 14,
   "id": "7decf9ea-e660-474e-bc31-f4302b65ccb7",
   "metadata": {},
   "outputs": [
    {
     "name": "stdout",
     "output_type": "stream",
     "text": [
      "Número de valores NaN para la columna dormitorios : 13\n",
      "Número de valores NaN para la columna baños : 10\n"
     ]
    }
   ],
   "source": [
    "print(\"Número de valores NaN para la columna dormitorios :\", df['bedrooms'].isnull().sum())\n",
    "print(\"Número de valores NaN para la columna baños :\", df['bathrooms'].isnull().sum())"
   ]
  },
  {
   "cell_type": "markdown",
   "id": "5f4be86e-910f-48ba-83a5-eac8d70affde",
   "metadata": {},
   "source": [
    "Efectivamente tenemos valores faltantes. Para resolver esto podemos reemplazarlos por la media de los datos o eliminar directamente esos registros ya que no podemos saber a ciencia cierta que dato deberia ir. Nostros vamos a tomar la decisión de reemplazar los datos para conservar el mayor conjunto de datos posible.\n"
   ]
  },
  {
   "cell_type": "code",
   "execution_count": 15,
   "id": "c6894355-004b-4dbc-8d6e-ebff4045c3d6",
   "metadata": {},
   "outputs": [
    {
     "name": "stdout",
     "output_type": "stream",
     "text": [
      "Los datos fueron reemplazados correctamente.\n"
     ]
    }
   ],
   "source": [
    "# Reemplazamos los valores NaN por el promedio de la columna\n",
    "mean = df['bedrooms'].mean()\n",
    "df['bedrooms'].replace(np.nan, mean, inplace=True)\n",
    "print('Los datos fueron reemplazados correctamente.')"
   ]
  },
  {
   "cell_type": "markdown",
   "id": "32b20dec-ca9b-40b7-9a8d-3b9f8f30255a",
   "metadata": {},
   "source": [
    "También reemplazamos los valores faltantes de la columna ``'bathrooms'`` con la media de la misma columna ``'bathrooms'``.\n"
   ]
  },
  {
   "cell_type": "code",
   "execution_count": 16,
   "id": "153a8ccd-d800-4925-a17f-8647fe4390ad",
   "metadata": {},
   "outputs": [
    {
     "name": "stdout",
     "output_type": "stream",
     "text": [
      "Los datos fueron reemplazados correctamente.\n"
     ]
    }
   ],
   "source": [
    "# Reemplazamos los valores NaN por el promedio de la columna\n",
    "mean=df['bathrooms'].mean()\n",
    "df['bathrooms'].replace(np.nan,mean, inplace=True)\n",
    "print('Los datos fueron reemplazados correctamente.')"
   ]
  },
  {
   "cell_type": "markdown",
   "metadata": {},
   "source": [
    "Volvemos a revisar si tenemos valores faltantes en nuestro dataframe"
   ]
  },
  {
   "cell_type": "code",
   "execution_count": 17,
   "id": "0bdcd33f-72be-49d1-a7af-8b727c991431",
   "metadata": {},
   "outputs": [
    {
     "name": "stdout",
     "output_type": "stream",
     "text": [
      "Número de valores NaN para la columna dormitorios : 0\n",
      "Número de valores NaN para la columna baños : 0\n"
     ]
    }
   ],
   "source": [
    "print(\"Número de valores NaN para la columna dormitorios :\", df['bedrooms'].isnull().sum())\n",
    "print(\"Número de valores NaN para la columna baños :\", df['bathrooms'].isnull().sum())"
   ]
  },
  {
   "cell_type": "markdown",
   "metadata": {},
   "source": [
    "### Identificar los valores atípicos\n",
    "Primero, un valor atípico es una observación en un conjunto de datos que se encuentra significativamente alejada del resto de los datos. Estos valores pueden ser el resultado de errores en la medición, datos mal ingresados, fenómenos extremos ó casos legítimos, pero raros. En este caso tenemos valores extremos pero que claramente son reales ya que a la hora de estimar el precio de una casa si la misma tiene frente al mar o no va a ser un claro disparador del precio. Esto lo confirmamos observando que es la columna que desata los mayores rangos de valores.\n",
    "\n",
    " Por lo que vamos a considerar determinar el IQR teniendo en cuenta el límite del cuartil superior de las casas con vista al mar (df['waterfront'])."
   ]
  },
  {
   "cell_type": "markdown",
   "metadata": {},
   "source": [
    "Procedemos a detectar los valores atípicos en las columnas relevantes. Para esto usamos el ``Rango Cuartílico`` que se define de la siguiente manera:"
   ]
  },
  {
   "cell_type": "markdown",
   "metadata": {},
   "source": [
    "<h3 align='center'><code>IQR = Q3 − Q1</code><h3>"
   ]
  },
  {
   "cell_type": "markdown",
   "metadata": {},
   "source": [
    "Donde:\n",
    "* `IQR` es el rango cuatílico\n",
    "* `Q3` es el cuartíl superior\n",
    "* `Q1` es el cuartíl inferior "
   ]
  },
  {
   "cell_type": "markdown",
   "metadata": {},
   "source": [
    "``Cualquier valor fuera de este rango se considera un outlier o valor atípico.``"
   ]
  },
  {
   "cell_type": "code",
   "execution_count": 18,
   "metadata": {},
   "outputs": [
    {
     "name": "stdout",
     "output_type": "stream",
     "text": [
      "El DataFrame original tenía 21613 filas y ahora tiene 21558 filas.\n"
     ]
    }
   ],
   "source": [
    "# Filtramos el DataFrame para obtener solo las filas donde waterfront = 1\n",
    "df_waterfront = df[df['waterfront'] == 1]\n",
    "\n",
    "# Calculamos los límites superior e inferior para detectar los valores atípicos\n",
    "Q1 = df_waterfront.quantile(0.25)\n",
    "Q3 = df_waterfront.quantile(0.75)\n",
    "IQR = Q3 - Q1\n",
    "\n",
    "# Filtramos los valores atípicos\n",
    "df_sin_atipicos = df_waterfront[~((df_waterfront < (Q1 - 1.5 * IQR)) | (df_waterfront > (Q3 + 1.5 * IQR))).any(axis=1)]\n",
    "\n",
    "# Si deseas mantener el DataFrame original sin los valores atípicos de waterfront = 1\n",
    "df_actualizado = pd.concat([df[df['waterfront'] != 1], df_sin_atipicos])\n",
    "\n",
    "print(f'El DataFrame original tenía {df.shape[0]} filas y ahora tiene {df_actualizado.shape[0]} filas.')"
   ]
  },
  {
   "cell_type": "markdown",
   "metadata": {},
   "source": [
    "Volvemos a aplicar el metodo describe para ver nuevamente como quedaron las estadisticas descriptivas del dataset."
   ]
  },
  {
   "cell_type": "code",
   "execution_count": 19,
   "metadata": {},
   "outputs": [
    {
     "data": {
      "text/html": [
       "<div>\n",
       "<style scoped>\n",
       "    .dataframe tbody tr th:only-of-type {\n",
       "        vertical-align: middle;\n",
       "    }\n",
       "\n",
       "    .dataframe tbody tr th {\n",
       "        vertical-align: top;\n",
       "    }\n",
       "\n",
       "    .dataframe thead th {\n",
       "        text-align: right;\n",
       "    }\n",
       "</style>\n",
       "<table border=\"1\" class=\"dataframe\">\n",
       "  <thead>\n",
       "    <tr style=\"text-align: right;\">\n",
       "      <th></th>\n",
       "      <th>price</th>\n",
       "      <th>bedrooms</th>\n",
       "      <th>bathrooms</th>\n",
       "      <th>sqft_living</th>\n",
       "      <th>sqft_lot</th>\n",
       "      <th>floors</th>\n",
       "      <th>waterfront</th>\n",
       "      <th>view</th>\n",
       "      <th>condition</th>\n",
       "      <th>grade</th>\n",
       "      <th>sqft_above</th>\n",
       "      <th>sqft_basement</th>\n",
       "      <th>yr_built</th>\n",
       "      <th>yr_renovated</th>\n",
       "      <th>zipcode</th>\n",
       "      <th>lat</th>\n",
       "      <th>long</th>\n",
       "      <th>sqft_living15</th>\n",
       "      <th>sqft_lot15</th>\n",
       "    </tr>\n",
       "  </thead>\n",
       "  <tbody>\n",
       "    <tr>\n",
       "      <th>count</th>\n",
       "      <td>2.155800e+04</td>\n",
       "      <td>21558.000000</td>\n",
       "      <td>21558.000000</td>\n",
       "      <td>21558.000000</td>\n",
       "      <td>2.155800e+04</td>\n",
       "      <td>21558.000000</td>\n",
       "      <td>21558.000000</td>\n",
       "      <td>21558.000000</td>\n",
       "      <td>21558.000000</td>\n",
       "      <td>21558.000000</td>\n",
       "      <td>21558.000000</td>\n",
       "      <td>21558.000000</td>\n",
       "      <td>21558.000000</td>\n",
       "      <td>21558.000000</td>\n",
       "      <td>21558.000000</td>\n",
       "      <td>21558.000000</td>\n",
       "      <td>21558.000000</td>\n",
       "      <td>21558.000000</td>\n",
       "      <td>21558.000000</td>\n",
       "    </tr>\n",
       "    <tr>\n",
       "      <th>mean</th>\n",
       "      <td>5.369100e+05</td>\n",
       "      <td>3.373451</td>\n",
       "      <td>2.114396</td>\n",
       "      <td>2076.573755</td>\n",
       "      <td>1.503397e+04</td>\n",
       "      <td>1.494155</td>\n",
       "      <td>0.005010</td>\n",
       "      <td>0.226459</td>\n",
       "      <td>3.408943</td>\n",
       "      <td>7.654374</td>\n",
       "      <td>1786.097041</td>\n",
       "      <td>290.476714</td>\n",
       "      <td>1971.046386</td>\n",
       "      <td>83.509741</td>\n",
       "      <td>98077.921143</td>\n",
       "      <td>47.560185</td>\n",
       "      <td>-122.213625</td>\n",
       "      <td>1984.830504</td>\n",
       "      <td>12711.132155</td>\n",
       "    </tr>\n",
       "    <tr>\n",
       "      <th>std</th>\n",
       "      <td>3.537667e+05</td>\n",
       "      <td>0.925113</td>\n",
       "      <td>0.766176</td>\n",
       "      <td>910.236773</td>\n",
       "      <td>4.130076e+04</td>\n",
       "      <td>0.539967</td>\n",
       "      <td>0.070604</td>\n",
       "      <td>0.750328</td>\n",
       "      <td>0.650104</td>\n",
       "      <td>1.171038</td>\n",
       "      <td>823.591225</td>\n",
       "      <td>439.837084</td>\n",
       "      <td>29.366964</td>\n",
       "      <td>399.650901</td>\n",
       "      <td>53.506782</td>\n",
       "      <td>0.138595</td>\n",
       "      <td>0.140748</td>\n",
       "      <td>683.522887</td>\n",
       "      <td>27262.865849</td>\n",
       "    </tr>\n",
       "    <tr>\n",
       "      <th>min</th>\n",
       "      <td>7.500000e+04</td>\n",
       "      <td>1.000000</td>\n",
       "      <td>0.500000</td>\n",
       "      <td>290.000000</td>\n",
       "      <td>5.200000e+02</td>\n",
       "      <td>1.000000</td>\n",
       "      <td>0.000000</td>\n",
       "      <td>0.000000</td>\n",
       "      <td>1.000000</td>\n",
       "      <td>1.000000</td>\n",
       "      <td>290.000000</td>\n",
       "      <td>0.000000</td>\n",
       "      <td>1900.000000</td>\n",
       "      <td>0.000000</td>\n",
       "      <td>98001.000000</td>\n",
       "      <td>47.155900</td>\n",
       "      <td>-122.519000</td>\n",
       "      <td>399.000000</td>\n",
       "      <td>651.000000</td>\n",
       "    </tr>\n",
       "    <tr>\n",
       "      <th>25%</th>\n",
       "      <td>3.210000e+05</td>\n",
       "      <td>3.000000</td>\n",
       "      <td>1.750000</td>\n",
       "      <td>1420.500000</td>\n",
       "      <td>5.040000e+03</td>\n",
       "      <td>1.000000</td>\n",
       "      <td>0.000000</td>\n",
       "      <td>0.000000</td>\n",
       "      <td>3.000000</td>\n",
       "      <td>7.000000</td>\n",
       "      <td>1190.000000</td>\n",
       "      <td>0.000000</td>\n",
       "      <td>1952.000000</td>\n",
       "      <td>0.000000</td>\n",
       "      <td>98033.000000</td>\n",
       "      <td>47.471300</td>\n",
       "      <td>-122.328000</td>\n",
       "      <td>1490.000000</td>\n",
       "      <td>5100.000000</td>\n",
       "    </tr>\n",
       "    <tr>\n",
       "      <th>50%</th>\n",
       "      <td>4.500000e+05</td>\n",
       "      <td>3.000000</td>\n",
       "      <td>2.250000</td>\n",
       "      <td>1910.000000</td>\n",
       "      <td>7.605500e+03</td>\n",
       "      <td>1.500000</td>\n",
       "      <td>0.000000</td>\n",
       "      <td>0.000000</td>\n",
       "      <td>3.000000</td>\n",
       "      <td>7.000000</td>\n",
       "      <td>1560.000000</td>\n",
       "      <td>0.000000</td>\n",
       "      <td>1975.000000</td>\n",
       "      <td>0.000000</td>\n",
       "      <td>98065.000000</td>\n",
       "      <td>47.571900</td>\n",
       "      <td>-122.230000</td>\n",
       "      <td>1840.000000</td>\n",
       "      <td>7620.000000</td>\n",
       "    </tr>\n",
       "    <tr>\n",
       "      <th>75%</th>\n",
       "      <td>6.420000e+05</td>\n",
       "      <td>4.000000</td>\n",
       "      <td>2.500000</td>\n",
       "      <td>2550.000000</td>\n",
       "      <td>1.063700e+04</td>\n",
       "      <td>2.000000</td>\n",
       "      <td>0.000000</td>\n",
       "      <td>0.000000</td>\n",
       "      <td>4.000000</td>\n",
       "      <td>8.000000</td>\n",
       "      <td>2210.000000</td>\n",
       "      <td>560.000000</td>\n",
       "      <td>1997.000000</td>\n",
       "      <td>0.000000</td>\n",
       "      <td>98118.000000</td>\n",
       "      <td>47.678100</td>\n",
       "      <td>-122.125000</td>\n",
       "      <td>2360.000000</td>\n",
       "      <td>10063.750000</td>\n",
       "    </tr>\n",
       "    <tr>\n",
       "      <th>max</th>\n",
       "      <td>7.700000e+06</td>\n",
       "      <td>33.000000</td>\n",
       "      <td>8.000000</td>\n",
       "      <td>13540.000000</td>\n",
       "      <td>1.651359e+06</td>\n",
       "      <td>3.500000</td>\n",
       "      <td>1.000000</td>\n",
       "      <td>4.000000</td>\n",
       "      <td>5.000000</td>\n",
       "      <td>13.000000</td>\n",
       "      <td>9410.000000</td>\n",
       "      <td>4130.000000</td>\n",
       "      <td>2015.000000</td>\n",
       "      <td>2015.000000</td>\n",
       "      <td>98199.000000</td>\n",
       "      <td>47.777600</td>\n",
       "      <td>-121.315000</td>\n",
       "      <td>6210.000000</td>\n",
       "      <td>871200.000000</td>\n",
       "    </tr>\n",
       "  </tbody>\n",
       "</table>\n",
       "</div>"
      ],
      "text/plain": [
       "              price      bedrooms     bathrooms   sqft_living      sqft_lot  \\\n",
       "count  2.155800e+04  21558.000000  21558.000000  21558.000000  2.155800e+04   \n",
       "mean   5.369100e+05      3.373451      2.114396   2076.573755  1.503397e+04   \n",
       "std    3.537667e+05      0.925113      0.766176    910.236773  4.130076e+04   \n",
       "min    7.500000e+04      1.000000      0.500000    290.000000  5.200000e+02   \n",
       "25%    3.210000e+05      3.000000      1.750000   1420.500000  5.040000e+03   \n",
       "50%    4.500000e+05      3.000000      2.250000   1910.000000  7.605500e+03   \n",
       "75%    6.420000e+05      4.000000      2.500000   2550.000000  1.063700e+04   \n",
       "max    7.700000e+06     33.000000      8.000000  13540.000000  1.651359e+06   \n",
       "\n",
       "             floors    waterfront          view     condition         grade  \\\n",
       "count  21558.000000  21558.000000  21558.000000  21558.000000  21558.000000   \n",
       "mean       1.494155      0.005010      0.226459      3.408943      7.654374   \n",
       "std        0.539967      0.070604      0.750328      0.650104      1.171038   \n",
       "min        1.000000      0.000000      0.000000      1.000000      1.000000   \n",
       "25%        1.000000      0.000000      0.000000      3.000000      7.000000   \n",
       "50%        1.500000      0.000000      0.000000      3.000000      7.000000   \n",
       "75%        2.000000      0.000000      0.000000      4.000000      8.000000   \n",
       "max        3.500000      1.000000      4.000000      5.000000     13.000000   \n",
       "\n",
       "         sqft_above  sqft_basement      yr_built  yr_renovated       zipcode  \\\n",
       "count  21558.000000   21558.000000  21558.000000  21558.000000  21558.000000   \n",
       "mean    1786.097041     290.476714   1971.046386     83.509741  98077.921143   \n",
       "std      823.591225     439.837084     29.366964    399.650901     53.506782   \n",
       "min      290.000000       0.000000   1900.000000      0.000000  98001.000000   \n",
       "25%     1190.000000       0.000000   1952.000000      0.000000  98033.000000   \n",
       "50%     1560.000000       0.000000   1975.000000      0.000000  98065.000000   \n",
       "75%     2210.000000     560.000000   1997.000000      0.000000  98118.000000   \n",
       "max     9410.000000    4130.000000   2015.000000   2015.000000  98199.000000   \n",
       "\n",
       "                lat          long  sqft_living15     sqft_lot15  \n",
       "count  21558.000000  21558.000000   21558.000000   21558.000000  \n",
       "mean      47.560185   -122.213625    1984.830504   12711.132155  \n",
       "std        0.138595      0.140748     683.522887   27262.865849  \n",
       "min       47.155900   -122.519000     399.000000     651.000000  \n",
       "25%       47.471300   -122.328000    1490.000000    5100.000000  \n",
       "50%       47.571900   -122.230000    1840.000000    7620.000000  \n",
       "75%       47.678100   -122.125000    2360.000000   10063.750000  \n",
       "max       47.777600   -121.315000    6210.000000  871200.000000  "
      ]
     },
     "execution_count": 19,
     "metadata": {},
     "output_type": "execute_result"
    }
   ],
   "source": [
    "df_actualizado.describe()"
   ]
  },
  {
   "cell_type": "markdown",
   "metadata": {},
   "source": [
    "Vemos como el valor promedio (mean) de la columna precio ya no es ``5.400881e+05`` sino ``5.360473e+05``. Ya que acotamos el rango en el conjunto total de datos diviendo el mismo en dos grupos, tomando el grupo que tuviera el rango de datos mas grande y descartando los valores atípicos de este último. Todo esto para tener el mayor conjunto de datos posible para poder entrenar a nuetro modelo futuro."
   ]
  },
  {
   "cell_type": "code",
   "execution_count": 20,
   "metadata": {},
   "outputs": [],
   "source": [
    "# Guardamos nuevamente el dataset pero con los datos normalizados\n",
    "df_actualizado.to_csv('data_clean.csv')"
   ]
  },
  {
   "cell_type": "markdown",
   "metadata": {},
   "source": [
    "<br>"
   ]
  },
  {
   "cell_type": "markdown",
   "metadata": {},
   "source": [
    "<br>\n"
   ]
  },
  {
   "cell_type": "markdown",
   "id": "c11d6298-0c2d-4e6e-8739-40be526b216c",
   "metadata": {},
   "source": [
    "## Parte 3: Análisis exploratorio de datos (EDA)\n"
   ]
  },
  {
   "cell_type": "markdown",
   "metadata": {},
   "source": [
    "Una vez finalizado el normalizado de los datos comenzamos a buscar la o las relaciones y patrones que presenten los datos en el dataset."
   ]
  },
  {
   "cell_type": "code",
   "execution_count": 21,
   "metadata": {},
   "outputs": [],
   "source": [
    "# Actualizamos el DataFrame original\n",
    "df = df_actualizado"
   ]
  },
  {
   "cell_type": "code",
   "execution_count": 22,
   "metadata": {},
   "outputs": [
    {
     "data": {
      "text/html": [
       "<div>\n",
       "<style scoped>\n",
       "    .dataframe tbody tr th:only-of-type {\n",
       "        vertical-align: middle;\n",
       "    }\n",
       "\n",
       "    .dataframe tbody tr th {\n",
       "        vertical-align: top;\n",
       "    }\n",
       "\n",
       "    .dataframe thead th {\n",
       "        text-align: right;\n",
       "    }\n",
       "</style>\n",
       "<table border=\"1\" class=\"dataframe\">\n",
       "  <thead>\n",
       "    <tr style=\"text-align: right;\">\n",
       "      <th></th>\n",
       "      <th>price</th>\n",
       "      <th>bedrooms</th>\n",
       "      <th>bathrooms</th>\n",
       "      <th>sqft_living</th>\n",
       "      <th>sqft_lot</th>\n",
       "      <th>floors</th>\n",
       "      <th>waterfront</th>\n",
       "      <th>view</th>\n",
       "      <th>condition</th>\n",
       "      <th>grade</th>\n",
       "      <th>sqft_above</th>\n",
       "      <th>sqft_basement</th>\n",
       "      <th>yr_built</th>\n",
       "      <th>yr_renovated</th>\n",
       "      <th>zipcode</th>\n",
       "      <th>lat</th>\n",
       "      <th>long</th>\n",
       "      <th>sqft_living15</th>\n",
       "      <th>sqft_lot15</th>\n",
       "    </tr>\n",
       "  </thead>\n",
       "  <tbody>\n",
       "    <tr>\n",
       "      <th>0</th>\n",
       "      <td>221900.0</td>\n",
       "      <td>3.0</td>\n",
       "      <td>1.00</td>\n",
       "      <td>1180</td>\n",
       "      <td>5650</td>\n",
       "      <td>1.0</td>\n",
       "      <td>0</td>\n",
       "      <td>0</td>\n",
       "      <td>3</td>\n",
       "      <td>7</td>\n",
       "      <td>1180</td>\n",
       "      <td>0</td>\n",
       "      <td>1955</td>\n",
       "      <td>0</td>\n",
       "      <td>98178</td>\n",
       "      <td>47.5112</td>\n",
       "      <td>-122.257</td>\n",
       "      <td>1340</td>\n",
       "      <td>5650</td>\n",
       "    </tr>\n",
       "    <tr>\n",
       "      <th>1</th>\n",
       "      <td>538000.0</td>\n",
       "      <td>3.0</td>\n",
       "      <td>2.25</td>\n",
       "      <td>2570</td>\n",
       "      <td>7242</td>\n",
       "      <td>2.0</td>\n",
       "      <td>0</td>\n",
       "      <td>0</td>\n",
       "      <td>3</td>\n",
       "      <td>7</td>\n",
       "      <td>2170</td>\n",
       "      <td>400</td>\n",
       "      <td>1951</td>\n",
       "      <td>1991</td>\n",
       "      <td>98125</td>\n",
       "      <td>47.7210</td>\n",
       "      <td>-122.319</td>\n",
       "      <td>1690</td>\n",
       "      <td>7639</td>\n",
       "    </tr>\n",
       "    <tr>\n",
       "      <th>2</th>\n",
       "      <td>180000.0</td>\n",
       "      <td>2.0</td>\n",
       "      <td>1.00</td>\n",
       "      <td>770</td>\n",
       "      <td>10000</td>\n",
       "      <td>1.0</td>\n",
       "      <td>0</td>\n",
       "      <td>0</td>\n",
       "      <td>3</td>\n",
       "      <td>6</td>\n",
       "      <td>770</td>\n",
       "      <td>0</td>\n",
       "      <td>1933</td>\n",
       "      <td>0</td>\n",
       "      <td>98028</td>\n",
       "      <td>47.7379</td>\n",
       "      <td>-122.233</td>\n",
       "      <td>2720</td>\n",
       "      <td>8062</td>\n",
       "    </tr>\n",
       "    <tr>\n",
       "      <th>3</th>\n",
       "      <td>604000.0</td>\n",
       "      <td>4.0</td>\n",
       "      <td>3.00</td>\n",
       "      <td>1960</td>\n",
       "      <td>5000</td>\n",
       "      <td>1.0</td>\n",
       "      <td>0</td>\n",
       "      <td>0</td>\n",
       "      <td>5</td>\n",
       "      <td>7</td>\n",
       "      <td>1050</td>\n",
       "      <td>910</td>\n",
       "      <td>1965</td>\n",
       "      <td>0</td>\n",
       "      <td>98136</td>\n",
       "      <td>47.5208</td>\n",
       "      <td>-122.393</td>\n",
       "      <td>1360</td>\n",
       "      <td>5000</td>\n",
       "    </tr>\n",
       "    <tr>\n",
       "      <th>4</th>\n",
       "      <td>510000.0</td>\n",
       "      <td>3.0</td>\n",
       "      <td>2.00</td>\n",
       "      <td>1680</td>\n",
       "      <td>8080</td>\n",
       "      <td>1.0</td>\n",
       "      <td>0</td>\n",
       "      <td>0</td>\n",
       "      <td>3</td>\n",
       "      <td>8</td>\n",
       "      <td>1680</td>\n",
       "      <td>0</td>\n",
       "      <td>1987</td>\n",
       "      <td>0</td>\n",
       "      <td>98074</td>\n",
       "      <td>47.6168</td>\n",
       "      <td>-122.045</td>\n",
       "      <td>1800</td>\n",
       "      <td>7503</td>\n",
       "    </tr>\n",
       "  </tbody>\n",
       "</table>\n",
       "</div>"
      ],
      "text/plain": [
       "      price  bedrooms  bathrooms  sqft_living  sqft_lot  floors  waterfront  \\\n",
       "0  221900.0       3.0       1.00         1180      5650     1.0           0   \n",
       "1  538000.0       3.0       2.25         2570      7242     2.0           0   \n",
       "2  180000.0       2.0       1.00          770     10000     1.0           0   \n",
       "3  604000.0       4.0       3.00         1960      5000     1.0           0   \n",
       "4  510000.0       3.0       2.00         1680      8080     1.0           0   \n",
       "\n",
       "   view  condition  grade  sqft_above  sqft_basement  yr_built  yr_renovated  \\\n",
       "0     0          3      7        1180              0      1955             0   \n",
       "1     0          3      7        2170            400      1951          1991   \n",
       "2     0          3      6         770              0      1933             0   \n",
       "3     0          5      7        1050            910      1965             0   \n",
       "4     0          3      8        1680              0      1987             0   \n",
       "\n",
       "   zipcode      lat     long  sqft_living15  sqft_lot15  \n",
       "0    98178  47.5112 -122.257           1340        5650  \n",
       "1    98125  47.7210 -122.319           1690        7639  \n",
       "2    98028  47.7379 -122.233           2720        8062  \n",
       "3    98136  47.5208 -122.393           1360        5000  \n",
       "4    98074  47.6168 -122.045           1800        7503  "
      ]
     },
     "execution_count": 22,
     "metadata": {},
     "output_type": "execute_result"
    }
   ],
   "source": [
    "# Verificamos que se haya actualizado correctamente\n",
    "df.head()"
   ]
  },
  {
   "cell_type": "markdown",
   "id": "63b38df9-d269-4ec4-8d3f-58e9d8998f4c",
   "metadata": {},
   "source": [
    "Como ya determinamos, una casa con vista al mar es una carateristica clave que va a influenciar en el precio de una casa.\n",
    "\n",
    "Comencemos por esto y separemos en el dataset los datos que tengan o no esta caracteristica para ver como se manejan estas magnitudes."
   ]
  },
  {
   "cell_type": "markdown",
   "metadata": {},
   "source": [
    "Procedimiento:\n",
    "\n",
    "* Definimos cuantas casas hay según si tienen frente al mar (Si/True=1 y No/False=0) y lo guardamos en un dataframe. "
   ]
  },
  {
   "cell_type": "code",
   "execution_count": 23,
   "metadata": {},
   "outputs": [
    {
     "data": {
      "text/html": [
       "<div>\n",
       "<style scoped>\n",
       "    .dataframe tbody tr th:only-of-type {\n",
       "        vertical-align: middle;\n",
       "    }\n",
       "\n",
       "    .dataframe tbody tr th {\n",
       "        vertical-align: top;\n",
       "    }\n",
       "\n",
       "    .dataframe thead th {\n",
       "        text-align: right;\n",
       "    }\n",
       "</style>\n",
       "<table border=\"1\" class=\"dataframe\">\n",
       "  <thead>\n",
       "    <tr style=\"text-align: right;\">\n",
       "      <th></th>\n",
       "      <th>count</th>\n",
       "    </tr>\n",
       "    <tr>\n",
       "      <th>waterfront</th>\n",
       "      <th></th>\n",
       "    </tr>\n",
       "  </thead>\n",
       "  <tbody>\n",
       "    <tr>\n",
       "      <th>0</th>\n",
       "      <td>21450</td>\n",
       "    </tr>\n",
       "    <tr>\n",
       "      <th>1</th>\n",
       "      <td>108</td>\n",
       "    </tr>\n",
       "  </tbody>\n",
       "</table>\n",
       "</div>"
      ],
      "text/plain": [
       "            count\n",
       "waterfront       \n",
       "0           21450\n",
       "1             108"
      ]
     },
     "execution_count": 23,
     "metadata": {},
     "output_type": "execute_result"
    }
   ],
   "source": [
    "cantidad_casas_con_o_sin_frentealmar = df['waterfront'].value_counts().to_frame()\n",
    "\n",
    "cantidad_casas_con_o_sin_frentealmar"
   ]
  },
  {
   "cell_type": "markdown",
   "metadata": {},
   "source": [
    "### Análisis mediante visualizaciones"
   ]
  },
  {
   "cell_type": "markdown",
   "metadata": {},
   "source": [
    "Visualizemos los datos a través de un diagrama de caja que es perfecto para estadisticas descriptivas."
   ]
  },
  {
   "cell_type": "code",
   "execution_count": 24,
   "id": "3f1e2db4-e614-4991-9d77-0e5656ecd2d6",
   "metadata": {},
   "outputs": [
    {
     "data": {
      "image/png": "[encoded data removed]",
      "text/plain": [
       "<Figure size 1200x1000 with 1 Axes>"
      ]
     },
     "metadata": {},
     "output_type": "display_data"
    }
   ],
   "source": [
    "casas_vista_mar = df['waterfront']\n",
    "\n",
    "plt.figure(figsize=(12, 10))\n",
    "sns.boxplot(x=casas_vista_mar, y=df['price'])\n",
    "plt.title(\"Comparacion de precios de casas con o sin vista al mar\")\n",
    "plt.ylabel(\"Precio de la casa\")\n",
    "plt.xlabel(\"Vista al mar\")\n",
    "plt.show()"
   ]
  },
  {
   "cell_type": "markdown",
   "metadata": {},
   "source": [
    "### Que conclusión podemos sacar de este gráfico de caja?\n",
    "\n",
    " > Nota: Recordemos que eliminamos todos los valores atipicos de nuestro dataset en funcion de las casas con vista al mar, por lo que la figura de la caja de <code>waterfront = 1</code> NO va a tener outliers.</bloq>\n",
    "\n",
    "En esencia, estamos comparando los precios de todas las casas con o sin vista al mar VS el precio <code>(df['price'])</code>. En la primera figura, cuando <code>df['waterfront'] = 0</code> (sin frente al mar), los precios son considerablemente más bajos en comparación con los casos donde <code>df['waterfront'] = 1</code> (con frente al mar). Esto genera un margen de precios más estrecho, y el resto de los valores quedan clasificados como atípicos (representados fuera de los 'bigotes' de la caja). Por otro lado, en la segunda figura el margen de datos es mucho mas amplio y no posee valores atípicos."
   ]
  },
  {
   "cell_type": "markdown",
   "id": "b7758f64-4f7e-4e35-aa2e-f28cc8fc45d2",
   "metadata": {},
   "source": [
    "Otra caraterística que nos puede llevar a pensar que esta ligada estrechamente al precio es <code>sqft_living</code> (Pies cuadrados de la casa), por ejemplo.\n",
    "\n",
    "Veamos como está correlacionada con `price`, si lo hace de forma negativa o positiva.\n",
    "\n",
    "Vamos a utilizar la función <code>regplot</code> en la biblioteca Seaborn para determinar la relación entre estas dos variables."
   ]
  },
  {
   "cell_type": "code",
   "execution_count": 25,
   "id": "c574630e-b850-4232-b86b-e5b0c054d599",
   "metadata": {},
   "outputs": [
    {
     "data": {
      "text/plain": [
       "(0.0, 8083231.922996274)"
      ]
     },
     "execution_count": 25,
     "metadata": {},
     "output_type": "execute_result"
    },
    {
     "data": {
      "image/png": "[encoded data removed]",
      "text/plain": [
       "<Figure size 1200x1000 with 1 Axes>"
      ]
     },
     "metadata": {},
     "output_type": "display_data"
    }
   ],
   "source": [
    "plt.figure(figsize=(12, 10))\n",
    "sns.regplot(x=\"sqft_living\", y=\"price\", data=df)\n",
    "plt.title('Relación Pies cuadrados de la casa vs Precio')\n",
    "plt.xlabel('Pies cuadrados de la casa')\n",
    "plt.ylabel('Precio')\n",
    "plt.legend(['Precio'])\n",
    "plt.ylim(0,)"
   ]
  },
  {
   "cell_type": "markdown",
   "metadata": {},
   "source": [
    "Efectivamente vemos que la figura que obtenemos al comparar estas dos variables es que a mediada que aumenta uno, tambien lo hace el otro. Lo que indica que hay una relacion lineal positiva. \n",
    "\n",
    "Podriamos visualizar uno por uno para encontrar las tendencias mas marcadas entre las variables."
   ]
  },
  {
   "cell_type": "markdown",
   "id": "95f7a93e-36fb-419c-b44c-74543819caa2",
   "metadata": {},
   "source": [
    "O bien podemos utilizar algunos métodos Pandas como <code>corr()</code>, para encontrar la característica <strong>distinta del precio</strong> que esté más correlacionada con esta misma.\n"
   ]
  },
  {
   "cell_type": "code",
   "execution_count": 26,
   "metadata": {},
   "outputs": [
    {
     "name": "stdout",
     "output_type": "stream",
     "text": [
      "Correlación de todas las caracteristicas con 'price'(sin contarse a sí mismo):\n",
      "bedrooms: 0.31\n",
      "bathrooms: 0.53\n",
      "sqft_living: 0.70\n",
      "sqft_lot: 0.09\n",
      "floors: 0.26\n",
      "waterfront: 0.21\n",
      "view: 0.38\n",
      "condition: 0.04\n",
      "grade: 0.67\n",
      "sqft_above: 0.60\n",
      "sqft_basement: 0.31\n",
      "yr_built: 0.06\n",
      "yr_renovated: 0.12\n",
      "zipcode: -0.05\n",
      "lat: 0.32\n",
      "long: 0.02\n",
      "sqft_living15: 0.59\n",
      "sqft_lot15: 0.08\n"
     ]
    }
   ],
   "source": [
    "# Calculamos la correlación de 'price' con otras características y excluímos 'price' mismo.\n",
    "correlations = df.corr()['price'].drop('price')\n",
    "\n",
    "# Mostramos la lista completa de correlaciones.\n",
    "print(\"Correlación de todas las caracteristicas con 'price'(sin contarse a sí mismo):\")\n",
    "for feature, value in correlations.items():\n",
    "    print(f\"{feature}: {value:.2f}\")"
   ]
  },
  {
   "cell_type": "markdown",
   "metadata": {},
   "source": [
    "Podemos observar que la característica más correlacionada con `price` es:\n",
    "* ``sqft_living`` (correlación: 0.70)"
   ]
  },
  {
   "cell_type": "markdown",
   "metadata": {},
   "source": [
    "Veamos de una forma mas clara estas relaciones entre las variables y el precio usando un gráfico de calor."
   ]
  },
  {
   "cell_type": "code",
   "execution_count": 27,
   "id": "51b64501-c716-4f97-b021-d5737ce47e56",
   "metadata": {},
   "outputs": [
    {
     "data": {
      "image/png": "[encoded data removed]",
      "text/plain": [
       "<Figure size 1000x800 with 2 Axes>"
      ]
     },
     "metadata": {},
     "output_type": "display_data"
    }
   ],
   "source": [
    "# Configuramos el tamaño del gráfico.\n",
    "plt.figure(figsize=(10, 8))\n",
    "\n",
    "# Creamos un DataFrame para las correlaciones específicas con 'price'.\n",
    "heatmap_data = correlations.to_frame(name='Correlación')\n",
    "\n",
    "# Generamos el gráfico de calor.\n",
    "sns.heatmap(heatmap_data, annot=True, cmap='coolwarm', cbar=True, fmt=\".2f\")\n",
    "\n",
    "# Añadimos el título.\n",
    "plt.title(\"Correlación de variables con 'price'\", fontsize=16)\n",
    "plt.show()\n"
   ]
  },
  {
   "cell_type": "markdown",
   "metadata": {},
   "source": [
    "Con esto vemos que la caracteristica mas determinante en el precio de una casa (o que por lo menos tiene un porcentaje de correlación más alto) es la cantidad de pies por metro cuadrado (sqft_living)de la misma. Lo cual ya habiamos visto usando el metodo pandas .corr()."
   ]
  },
  {
   "cell_type": "markdown",
   "metadata": {},
   "source": [
    "Ahora que tenemos este dato podemos probar ajustar un modelo de regresión lineal utilizando como variable predictora \"pies cuadrados de la casa\" <code>('sqft_living')</code> y así calcular el R^2 (coeficiente de determinacion)."
   ]
  },
  {
   "cell_type": "markdown",
   "metadata": {},
   "source": [
    "<br>"
   ]
  },
  {
   "cell_type": "markdown",
   "id": "809ba6d8-f0d5-40a6-bdf8-68cd2cc241f4",
   "metadata": {},
   "source": [
    "# Parte 4: Desarrollo del modelo\n"
   ]
  },
  {
   "cell_type": "markdown",
   "metadata": {},
   "source": [
    "Una vez que comprendemos las relaciones entre nuestras variables podemos comenzar a desarrollar un modelo para obtener la ecuacion estimadora del precio de una casa en funcion de ciertas caraterísticas específicas."
   ]
  },
  {
   "cell_type": "markdown",
   "metadata": {},
   "source": [
    "Primero vamos a separar los datos en diferentes muestras (Datos de entrenamiento, datos de prueba y de validación).\n",
    "\n",
    " Importamos el siguiente módulo para poder separar nuestros datos:"
   ]
  },
  {
   "cell_type": "code",
   "execution_count": 28,
   "metadata": {},
   "outputs": [],
   "source": [
    "from sklearn.model_selection import train_test_split"
   ]
  },
  {
   "cell_type": "markdown",
   "metadata": {},
   "source": [
    "Dividimos los datos en conjuntos de entrenamiento, prueba y validación :"
   ]
  },
  {
   "cell_type": "code",
   "execution_count": 29,
   "metadata": {},
   "outputs": [
    {
     "name": "stdout",
     "output_type": "stream",
     "text": [
      "Número de muestras de entrenamiento: 17461\n",
      "Número de muestras de prueba: 2156\n",
      "Número de muestras de validación: 1941\n"
     ]
    }
   ],
   "source": [
    "X = df[['sqft_living']]\n",
    "Y = df['price']\n",
    "\n",
    "# Dividir los datos en entrenamiento + validación, y prueba\n",
    "x_train_val, x_test, y_train_val, y_test = train_test_split(\n",
    "    X, Y, test_size=0.1, random_state=1\n",
    ")\n",
    "\n",
    "# Dividir el conjunto de entrenamiento + validación en entrenamiento y validación\n",
    "x_train, x_val, y_train, y_val = train_test_split(\n",
    "    x_train_val, \n",
    "    y_train_val, \n",
    "    test_size=0.1, \n",
    "    random_state=1\n",
    ")  \n",
    "\n",
    "print(\"Número de muestras de entrenamiento:\",x_train.shape[0])\n",
    "print(\"Número de muestras de prueba:\", x_test.shape[0])\n",
    "print(\"Número de muestras de validación:\", x_val.shape[0])"
   ]
  },
  {
   "cell_type": "markdown",
   "metadata": {},
   "source": [
    "Creamos y ajustamos el modelo a nuestros datos para así obtener el `Coeficiente de determinación` usando los datos de prueba."
   ]
  },
  {
   "cell_type": "code",
   "execution_count": 30,
   "metadata": {},
   "outputs": [
    {
     "name": "stdout",
     "output_type": "stream",
     "text": [
      "El coficiente de determinación usando solo la caracteristica con mas\n",
      "correlación respecto a \"price\" es: \n",
      "\n",
      "0.5194409996536258\n"
     ]
    }
   ],
   "source": [
    "lm = LinearRegression()\n",
    "lm.fit(x_train, y_train)\n",
    "\n",
    "# Obtenemos el coeficiente de determinación\n",
    "print(f'''El coficiente de determinación usando solo la caracteristica con mas\n",
    "correlación respecto a \"price\" es: \n",
    "\n",
    "{lm.score(x_test, y_test)}''')"
   ]
  },
  {
   "cell_type": "markdown",
   "id": "2743f36f-4f7e-4a3c-80f9-7d6a903d1362",
   "metadata": {},
   "source": [
    "Un ``R²`` (coeficiente de determinación) de 0.51 indica que el modelo explica el 51% de la variabilidad de los datos dependientes en función de las variables independientes. Aunque esto no necesariamente significa que el modelo sea malo, hay razones para pensar que podría mejorarse. Por lo que ahora vamos a probar ``ajustar el modelo`` de regresión lineal para predecir el <code>'precio'</code> utilizando una lista con las características que consideremos 'claves' para usarlas como variables predictoras (`features`)."
   ]
  },
  {
   "cell_type": "markdown",
   "metadata": {},
   "source": [
    "Nos vamos a apoyar en nuestro grafico de calor para que como segundo analisis usemos las caracteristicas mas relevantes. \n",
    "\n",
    "Tomemos como referencia usar todas las variables en las que se observa el cambio de calor en el grafico, es decir, un ``df.corr()['price'].drop('price') >= .50`` ."
   ]
  },
  {
   "cell_type": "code",
   "execution_count": 31,
   "metadata": {},
   "outputs": [
    {
     "name": "stdout",
     "output_type": "stream",
     "text": [
      "Características con la correlación más alta respecto a 'price': \n",
      "      ['sqft_living', 'grade', 'sqft_above', 'sqft_living15', 'bathrooms']\n"
     ]
    }
   ],
   "source": [
    "# Ordenamos las correlaciones por su magnitud (absoluta) en orden descendente.\n",
    "correlations = correlations.reindex(correlations.abs().sort_values(ascending=False).index)\n",
    "\n",
    "# Filtramos las características con una correlación >= 0.50.\n",
    "high_corr_features = correlations[correlations.abs() >= 0.50].index.tolist()\n",
    "\n",
    "# Mostramos la lista de características.\n",
    "print(f'''Características con la correlación más alta respecto a 'price': \n",
    "      {high_corr_features}''')"
   ]
  },
  {
   "cell_type": "code",
   "execution_count": 32,
   "metadata": {},
   "outputs": [],
   "source": [
    "# Definimos las características que se usarán para entrenar el modelo\n",
    "features = high_corr_features\n",
    "target = 'price'"
   ]
  },
  {
   "cell_type": "code",
   "execution_count": 33,
   "metadata": {},
   "outputs": [
    {
     "name": "stdout",
     "output_type": "stream",
     "text": [
      "Número de muestras de entrenamiento: 17461\n",
      "Número de muestras de prueba: 2156\n",
      "Número de muestras de validación: 1941\n"
     ]
    }
   ],
   "source": [
    "# Definimos las variables X e Y\n",
    "X = df[features]\n",
    "Y = df[target]\n",
    "\n",
    "# Dividir los datos en entrenamiento + validación, y prueba\n",
    "x_train_val, x_test, y_train_val, y_test = train_test_split(\n",
    "    X, Y, test_size=0.1, random_state=1\n",
    ")\n",
    "\n",
    "# Dividir el conjunto de entrenamiento + validación en entrenamiento y validación de prueba\n",
    "x_train, x_val, y_train, y_val = train_test_split(\n",
    "    x_train_val, \n",
    "    y_train_val, \n",
    "    test_size=0.1, \n",
    "    random_state=1\n",
    ")  \n",
    "\n",
    "print(\"Número de muestras de entrenamiento:\",x_train.shape[0])\n",
    "print(\"Número de muestras de prueba:\", x_test.shape[0])\n",
    "print(\"Número de muestras de validación:\", x_val.shape[0])"
   ]
  },
  {
   "cell_type": "markdown",
   "metadata": {},
   "source": [
    "Volvemos a crear el modelo pero ajustamos a nuestros nuevos datos de entrenamiento y prueba."
   ]
  },
  {
   "cell_type": "code",
   "execution_count": 34,
   "id": "9ea8bfc1-9d9e-410c-b26f-a0d1e795412d",
   "metadata": {},
   "outputs": [
    {
     "name": "stdout",
     "output_type": "stream",
     "text": [
      "El coeficiente de determinación usando las caracteristicas mas relevantes: 0.5695705656321126\n"
     ]
    }
   ],
   "source": [
    "lm = LinearRegression()\n",
    "lm.fit(x_train, y_train)\n",
    "\n",
    "R2 = lm.score(x_test, y_test)\n",
    "print(f'El coeficiente de determinación usando las caracteristicas mas relevantes: {R2}')"
   ]
  },
  {
   "cell_type": "markdown",
   "metadata": {},
   "source": [
    "Ahora el modelo explica el 56% de la variabilidad de los datos dependientes en función de las variables independientes."
   ]
  },
  {
   "cell_type": "markdown",
   "metadata": {},
   "source": [
    "Ahora probemos usando todas las carateriticas para ver cual de los 3 modelos tiene mayor R²."
   ]
  },
  {
   "cell_type": "code",
   "execution_count": 35,
   "metadata": {},
   "outputs": [],
   "source": [
    "# Definimos todas las caracteristicas excluyendo 'price'\n",
    "all_features = [col for col in df.columns if col != 'price']\n",
    "target = 'price'"
   ]
  },
  {
   "cell_type": "code",
   "execution_count": 36,
   "metadata": {},
   "outputs": [
    {
     "name": "stdout",
     "output_type": "stream",
     "text": [
      "Número de muestras de entrenamiento: 17461\n",
      "Número de muestras de prueba: 2156\n",
      "Número de muestras de validación: 1941\n"
     ]
    }
   ],
   "source": [
    "# Definimos las variables X e Y nuevamente\n",
    "X = df[all_features]\n",
    "Y = df[target]\n",
    "\n",
    "# Dividir los datos en entrenamiento + validación, y prueba\n",
    "x_train_val, x_test, y_train_val, y_test = train_test_split(\n",
    "    X, Y, test_size=0.1, random_state=1\n",
    ")\n",
    "\n",
    "# Dividir el conjunto de entrenamiento + validación en entrenamiento y validación de prueba\n",
    "x_train, x_val, y_train, y_val = train_test_split(\n",
    "    x_train_val, \n",
    "    y_train_val, \n",
    "    test_size=0.1, \n",
    "    random_state=1\n",
    ")  \n",
    "\n",
    "print(\"Número de muestras de entrenamiento:\",x_train.shape[0])\n",
    "print(\"Número de muestras de prueba:\", x_test.shape[0])\n",
    "print(\"Número de muestras de validación:\", x_val.shape[0])"
   ]
  },
  {
   "cell_type": "code",
   "execution_count": 37,
   "metadata": {},
   "outputs": [
    {
     "name": "stdout",
     "output_type": "stream",
     "text": [
      "El coeficiente de determinación usando TODAS las caracterisícas(excepto el precio):\n",
      "      0.6963904217219994\n"
     ]
    }
   ],
   "source": [
    "lm = LinearRegression()\n",
    "lm.fit(x_train, y_train)\n",
    "\n",
    "R2 = lm.score(x_test, y_test)\n",
    "print(f'''El coeficiente de determinación usando TODAS las caracterisícas(excepto el precio):\n",
    "      {R2}''')"
   ]
  },
  {
   "cell_type": "markdown",
   "metadata": {},
   "source": [
    "Vemos ahora una vez que ajustamos el modelo con la lista de las caracteristicas con mas correlacion `(high_corr_features)` en lugar de solo una (``sqft_living``) el R² paso de ``.49``  a ``.56``.\n",
    "Y que cuando usamos la lista completa con todas las columnas (`all_features`) el R² fue de `0.69`.\n",
    "\n",
    "Por lo tanto con el que nos vamos a quedar con el último modelo usando todas sus características."
   ]
  },
  {
   "cell_type": "markdown",
   "id": "8c7189c8-f58e-47b5-8ec6-172be0c48531",
   "metadata": {},
   "source": [
    "### Pipeline o canalización de datos\n",
    "\n",
    "Ya vimos que pudimos mejorar el R2 usando una lista de variables la cual hace que nuestro modelo sea mas preciso que ajustandolo a una sola. Pero como siempre, podemos mejorarlo más usando un pipeline.\n",
    "\n",
    "Esto lo que basicamente va a lograr es automatizar y encadenar procesos secuenciales para que los datos pasen de un paso a otro de manera ordenada y eficiente sin perder o truncar datos.\n",
    "\n",
    "Vamos a crear una lista de tuplas donde el primer elemento va a contener el nombre del estimador:\n",
    "* <code>'scale'</code>\n",
    "* <code>'polynomial'</code>\n",
    "* <code>'model'</code>\n",
    "\n",
    "El segundo elemento de la tupla contiene el constructor del modelo que en este caso, vamos a usar:\n",
    "* <code>StandardScaler()</code> Para escalar los datos.\n",
    "* <code>PolynomialFeatures</code> Para generar las características polinómicas.\n",
    "* <code>LinearRegression()</code> Para ajustar a un modelo de regresión lineal."
   ]
  },
  {
   "cell_type": "code",
   "execution_count": 38,
   "id": "bc97e85d-4598-4a4e-8c55-bd5dcfb064fd",
   "metadata": {},
   "outputs": [],
   "source": [
    "# Pasos o secuencia que nuestro pipeline va a ejecutar\n",
    "steps=[('scale',StandardScaler()),('polynomial', PolynomialFeatures(include_bias=False)),('model',LinearRegression())]"
   ]
  },
  {
   "cell_type": "code",
   "execution_count": 39,
   "metadata": {},
   "outputs": [
    {
     "name": "stdout",
     "output_type": "stream",
     "text": [
      "Número de muestras de entrenamiento: 17461\n",
      "Número de muestras de prueba: 2156\n",
      "Número de muestras de validación: 1941\n"
     ]
    }
   ],
   "source": [
    "# Definimos nuevamente las variables X e Y\n",
    "X = df[all_features]\n",
    "Y = df[target]\n",
    "\n",
    "# Dividir los datos en entrenamiento + validación, y prueba\n",
    "x_train_val, x_test, y_train_val, y_test = train_test_split(\n",
    "    X, Y, test_size=0.1, random_state=1\n",
    ")\n",
    "\n",
    "# Dividir el conjunto de entrenamiento + validación en entrenamiento y validación de prueba\n",
    "x_train, x_val, y_train, y_val = train_test_split(\n",
    "    x_train_val, \n",
    "    y_train_val, \n",
    "    test_size=0.1, \n",
    "    random_state=1\n",
    ")  \n",
    "\n",
    "print(\"Número de muestras de entrenamiento:\",x_train.shape[0])\n",
    "print(\"Número de muestras de prueba:\", x_test.shape[0])\n",
    "print(\"Número de muestras de validación:\", x_val.shape[0])"
   ]
  },
  {
   "cell_type": "code",
   "execution_count": 40,
   "metadata": {},
   "outputs": [
    {
     "name": "stdout",
     "output_type": "stream",
     "text": [
      "El coeficiente de determinación usando un pipeline es: 0.835082979645837\n"
     ]
    }
   ],
   "source": [
    "# Creamos el Pipeline\n",
    "pipeline = Pipeline(steps)\n",
    "\n",
    "# Entrenamos el pipeline\n",
    "pipeline.fit(x_train, y_train)\n",
    "\n",
    "# Determinamos el R²\n",
    "R2 = pipeline.score(x_test,y_test)\n",
    "print(f'El coeficiente de determinación usando un pipeline es: {R2}')"
   ]
  },
  {
   "cell_type": "markdown",
   "metadata": {},
   "source": [
    "Y el R² en este caso habla por si solo. Logramos llevarlo de ``.69`` a ``.83`` usando las mismas muestras que en nuestro modelo lineal anterior pero con la diferencia que ajustamos el modelo a uno de ``grado 2`` que es por defecto el grado que se le asigna al modelo cuando usamos PolynomialFeatures sin explicitar el grado. \n",
    "\n",
    "Para quedarnos mas tranquilos usamos validacion crauzada que es otro tipo de métrica que usa al R² para determinar si los datos se comportan igual en la mayoria de los rangos de los datos.\n"
   ]
  },
  {
   "cell_type": "code",
   "execution_count": 41,
   "metadata": {},
   "outputs": [
    {
     "name": "stdout",
     "output_type": "stream",
     "text": [
      "R² promedio en validación cruzada: 0.7897897098465665\n"
     ]
    }
   ],
   "source": [
    "from sklearn.model_selection import cross_val_score\n",
    "\n",
    "scores = cross_val_score(pipeline, X, Y, cv=5, scoring='r2')  # cv=5 para 5 particiones\n",
    "print(f'R² promedio en validación cruzada: {scores.mean()}')"
   ]
  },
  {
   "cell_type": "markdown",
   "metadata": {},
   "source": [
    "¿Es este el mejor modelo?\n",
    "\n",
    "Sigamos invesitigando. \n",
    "\n",
    "Ya vimos que lo mejor es usar como variable predictora a todas columnas excepto el precio.\n",
    "\n",
    "Pero ahora pensemos en el grado del polinomio, es el correcto? o se puede mejorar?"
   ]
  },
  {
   "cell_type": "markdown",
   "metadata": {},
   "source": [
    "Para apreciar aún mejor el grado del polinomio que mejor se ajusta podemos hacer una evaluación del Ajuste de Modelos Polinomiales según el Grado Óptimo para el modelo basado en\n",
    "el R²"
   ]
  },
  {
   "cell_type": "code",
   "execution_count": 190,
   "metadata": {},
   "outputs": [
    {
     "data": {
      "image/png": "[encoded data removed]",
      "text/plain": [
       "<Figure size 800x600 with 1 Axes>"
      ]
     },
     "metadata": {},
     "output_type": "display_data"
    }
   ],
   "source": [
    "# Calculamos el R² para distintos grados\n",
    "Rsqu_test = []\n",
    "order = [1, 2, 3, 4]\n",
    "\n",
    "for n in order:\n",
    "    # Secuencia del pipeline\n",
    "    steps = [\n",
    "        ('scale', StandardScaler()),\n",
    "        ('polynomial', PolynomialFeatures(degree=n, include_bias=False)),\n",
    "        ('model', LinearRegression())\n",
    "    ]\n",
    "\n",
    "    # Creamos el Pipeline\n",
    "    pipeline = Pipeline(steps)\n",
    "\n",
    "    # Ajustamos y evaluamos el modelo\n",
    "    pipeline.fit(x_train, y_train)\n",
    "    Rsqu_test.append(pipeline.score(x_test, y_test))\n",
    "\n",
    "# buscamos el grado con el R^2 máximo\n",
    "max_r2 = max(Rsqu_test)\n",
    "optimal_order = order[Rsqu_test.index(max_r2)]\n",
    "\n",
    "# Gráficamos el R² en función del grado del polinomio\n",
    "plt.figure(figsize=(8, 6))\n",
    "plt.plot(order, Rsqu_test, marker='o', label='$R^2$ Test')\n",
    "plt.scatter(optimal_order, max_r2, color='red', zorder=5, label=f'Máximo $R^2$ ({max_r2:.2f})')\n",
    "plt.axvline(optimal_order, linestyle='--', color='gray', alpha=0.7)\n",
    "plt.axhline(max_r2, linestyle='--', color='gray', alpha=0.7)\n",
    "\n",
    "# Personalizamos un poco el gráfico\n",
    "plt.title('$R^2$ usando los datos de prueba', fontsize=16)\n",
    "plt.xlabel('Grado del Polinomio', fontsize=12)\n",
    "plt.ylabel('$R^2$', fontsize=12)\n",
    "plt.xticks(order)\n",
    "plt.legend()\n",
    "plt.grid(alpha=0.3)\n",
    "plt.show()"
   ]
  },
  {
   "cell_type": "markdown",
   "metadata": {},
   "source": [
    "Con esto obervamos que el pico máximo del grado en el que el modelo generaliza mejor los datos es hasta el grado 2. Pareciera que de grado 3 tambien es un buen grado. Vamos a investigar esto.\n",
    "\n",
    "Observamos creando un modelo de grado 2, de grado 3 y grado 4 para confirmar nuestro grafico."
   ]
  },
  {
   "cell_type": "code",
   "execution_count": 42,
   "metadata": {},
   "outputs": [
    {
     "name": "stdout",
     "output_type": "stream",
     "text": [
      "El coeficiente de determinación es: 0.835082979645837\n"
     ]
    }
   ],
   "source": [
    "steps = [\n",
    "        ('scale', StandardScaler()),\n",
    "        ('polynomial', PolynomialFeatures(degree=2, include_bias=False)),\n",
    "        ('model', LinearRegression())\n",
    "    ]\n",
    "\n",
    "# Creamos el Pipeline\n",
    "pipeline = Pipeline(steps)\n",
    "\n",
    "# Ajustamos y evaluamos el modelo\n",
    "pipeline.fit(x_train, y_train)\n",
    "\n",
    "# Determinamos el R²\n",
    "R2 = pipeline.score(x_test,y_test)\n",
    "print(f'El coeficiente de determinación es: {R2}')"
   ]
  },
  {
   "cell_type": "code",
   "execution_count": 43,
   "metadata": {},
   "outputs": [
    {
     "name": "stdout",
     "output_type": "stream",
     "text": [
      "El coeficiente de determinación es: -0.9471725403008264\n"
     ]
    }
   ],
   "source": [
    "steps_grado3 = [\n",
    "    ('scale', StandardScaler()),\n",
    "    ('polynomial', PolynomialFeatures(degree=3, include_bias=False)),\n",
    "    ('model', LinearRegression())\n",
    "]\n",
    "\n",
    "# Creamos el Pipeline\n",
    "pipeline_grado3 = Pipeline(steps_grado3)\n",
    "\n",
    "# Ajustamos y evaluamos el modelo\n",
    "pipeline_grado3.fit(x_train, y_train)\n",
    "\n",
    "# Determinamos el R²\n",
    "R2 = pipeline_grado3.score(x_test,y_test)\n",
    "print(f'El coeficiente de determinación es: {R2}')"
   ]
  },
  {
   "cell_type": "code",
   "execution_count": 59,
   "metadata": {},
   "outputs": [
    {
     "name": "stdout",
     "output_type": "stream",
     "text": [
      "El coeficiente de determinación es: -1722.2034712082198\n"
     ]
    }
   ],
   "source": [
    "steps_grado4 = [\n",
    "        ('scale', StandardScaler()),\n",
    "        ('polynomial', PolynomialFeatures(degree=4, include_bias=False)),\n",
    "        ('model', LinearRegression())\n",
    "    ]\n",
    "\n",
    "# Creamos el Pipeline\n",
    "pipeline_grado4 = Pipeline(steps_grado4)\n",
    "\n",
    "# Ajustaomos y evaluamos el modelo\n",
    "pipeline_grado4.fit(x_train, y_train)\n",
    "\n",
    "# Determinamos el R²\n",
    "R2 = pipeline_grado4.score(x_test,y_test)\n",
    "print(f'El coeficiente de determinación es: {R2}')"
   ]
  },
  {
   "cell_type": "markdown",
   "metadata": {},
   "source": [
    "## Resultados\n",
    "Efectivamente, como anticipamos anteriormente con nustro grafico logramos un pico maximo de casi un ``R² = .84`` al usar un polinomio de ``grado 2``. Cuando usamos uno de ``grado 3`` nos devuelve un numero negativo, aunque este puede mejorarse al insertar un ``Un hiperparametro``. En cambio cuando pasamos a uno de ``grado 4`` El modelo se desploma (sin mencionar el gasto computacional)."
   ]
  },
  {
   "cell_type": "markdown",
   "metadata": {},
   "source": [
    "<br>"
   ]
  },
  {
   "cell_type": "markdown",
   "id": "71a6fb92-1030-4de8-9f3d-e302b9adab5d",
   "metadata": {},
   "source": [
    "## Parte 5: Evaluación y refinamiento del modelo\n"
   ]
  },
  {
   "cell_type": "markdown",
   "metadata": {},
   "source": [
    "Algo común que afecta a un modelo y que debemos evitar es el sobreajuste (overfitting) este afecta la precición del modelo cuando aparecen nuevos datos."
   ]
  },
  {
   "cell_type": "markdown",
   "metadata": {},
   "source": [
    "Como ya mencionamos, El coeficiente de determinación R² indica qué tan bien se ajusta un modelo a los datos. Cuanto más cercano esté a 1, mejor explica el modelo la varianza en los datos.\n",
    "\n",
    "Un R² alto en los datos de entrenamiento pero bajo en los de prueba indica sobreajuste."
   ]
  },
  {
   "cell_type": "code",
   "execution_count": 44,
   "metadata": {},
   "outputs": [
    {
     "name": "stdout",
     "output_type": "stream",
     "text": [
      "R² en entrenamiento: 0.8175828982031006\n",
      "R² en prueba: 0.835082979645837\n"
     ]
    }
   ],
   "source": [
    "from sklearn.metrics import r2_score\n",
    "\n",
    "# Evaluación en entrenamiento\n",
    "r2_train = r2_score(y_train, pipeline.predict(x_train))\n",
    "print(f'R² en entrenamiento: {r2_train}')\n",
    "\n",
    "# Evaluación en prueba\n",
    "r2_test = r2_score(y_test, pipeline.predict(x_test))\n",
    "print(f'R² en prueba: {r2_test}')"
   ]
  },
  {
   "cell_type": "markdown",
   "metadata": {},
   "source": [
    "Realizamos una validación cruzada para asegurarnos de que el R² es consistente en diferentes divisiones del conjunto de datos."
   ]
  },
  {
   "cell_type": "code",
   "execution_count": 45,
   "metadata": {},
   "outputs": [
    {
     "name": "stdout",
     "output_type": "stream",
     "text": [
      "R² promedio en validación cruzada: 0.7897897098465665\n"
     ]
    }
   ],
   "source": [
    "from sklearn.model_selection import cross_val_score\n",
    "\n",
    "scores = cross_val_score(pipeline, X, Y, cv=5, scoring='r2')  # cv=5 para 5 particiones\n",
    "print(f'R² promedio en validación cruzada: {scores.mean()}')\n"
   ]
  },
  {
   "cell_type": "markdown",
   "metadata": {},
   "source": [
    "Como logramos apreciar los resultados con un modelo polinomico de orden 2 muestran que ahora los valores de R² en entrenamiento y prueba se mantienen constantes, al igual que la validación cruzada. Esto es excelente quiere decir que el modelo se mantiene estable."
   ]
  },
  {
   "cell_type": "markdown",
   "metadata": {},
   "source": [
    "### Regresion de Ridge\n",
    "\n",
    "Vamos a agregar un término de penalización para evitar que los coeficientes del modelo crezcan demasiado y evitar el sobreajuste, esto lo logramos con la implementacion de un hiperamentro alpha."
   ]
  },
  {
   "cell_type": "code",
   "execution_count": 46,
   "metadata": {},
   "outputs": [
    {
     "name": "stdout",
     "output_type": "stream",
     "text": [
      "R² en entrenamiento (Ridge): 0.8175122728366253\n",
      "R² en prueba (Ridge): 0.8353321845002158\n"
     ]
    }
   ],
   "source": [
    "from sklearn.linear_model import Ridge\n",
    "\n",
    "# Ajustar un modelo Ridge\n",
    "pipeline_ridge = Pipeline([\n",
    "    ('scale', StandardScaler()),\n",
    "    ('polynomial', PolynomialFeatures(degree=2, include_bias=False)),\n",
    "    ('model', Ridge(alpha=1.0))\n",
    "])\n",
    "\n",
    "pipeline_ridge.fit(x_train, y_train)\n",
    "ridge_r2_test = pipeline_ridge.score(x_test, y_test)\n",
    "ridge_r2_train = pipeline_ridge.score(x_train, y_train)\n",
    "\n",
    "print(f\"R² en entrenamiento (Ridge): {ridge_r2_train}\")\n",
    "print(f\"R² en prueba (Ridge): {ridge_r2_test}\")\n"
   ]
  },
  {
   "cell_type": "markdown",
   "metadata": {},
   "source": [
    "Volvemos a usar la validacion cruzada para ver los nuevos datos:"
   ]
  },
  {
   "cell_type": "code",
   "execution_count": 47,
   "metadata": {},
   "outputs": [
    {
     "name": "stdout",
     "output_type": "stream",
     "text": [
      "R² promedio en validación cruzada: 0.7994476129302786\n"
     ]
    }
   ],
   "source": [
    "from sklearn.model_selection import cross_val_score\n",
    "\n",
    "scores = cross_val_score(pipeline_ridge, x_train, y_train, cv=5, scoring='r2')\n",
    "print(f\"R² promedio en validación cruzada: {scores.mean()}\")"
   ]
  },
  {
   "cell_type": "markdown",
   "metadata": {},
   "source": [
    "Vemos como el R² promedio en validación cruzada aumento de ``0.78`` a ``0.79``"
   ]
  },
  {
   "cell_type": "markdown",
   "metadata": {},
   "source": [
    "Sigamos afinando el modelo."
   ]
  },
  {
   "cell_type": "markdown",
   "metadata": {},
   "source": [
    "Procedemos a seleccionar (si existe) el mejor ``hiperparametro`` para nuestro modelo de Ridge mitige los coeficentes altos a usar caracteristicas polinómicas."
   ]
  },
  {
   "cell_type": "code",
   "execution_count": 52,
   "metadata": {},
   "outputs": [
    {
     "name": "stdout",
     "output_type": "stream",
     "text": [
      "Mejor alpha: 100\n",
      "Mejor R² en validación cruzada: 0.7997415018583729\n"
     ]
    }
   ],
   "source": [
    "from sklearn.model_selection import GridSearchCV\n",
    "from sklearn.linear_model import Ridge\n",
    "\n",
    "# Configuración de GridSearchCV\n",
    "param_grid = {'model__alpha': [0.001, 0.01, 0.1, 1, 10, 100, 1000, 10000]}\n",
    "ridge_pipeline = Pipeline([\n",
    "    ('scale', StandardScaler()),\n",
    "    ('polynomial', PolynomialFeatures(degree=2, include_bias=False)),\n",
    "    ('model', Ridge())\n",
    "])\n",
    "\n",
    "grid = GridSearchCV(ridge_pipeline, param_grid, cv=5, scoring='r2')\n",
    "grid.fit(x_train, y_train)\n",
    "\n",
    "# Mejor valor de alpha\n",
    "print(f\"Mejor alpha: {grid.best_params_['model__alpha']}\")\n",
    "print(f\"Mejor R² en validación cruzada: {grid.best_score_}\")"
   ]
  },
  {
   "cell_type": "markdown",
   "metadata": {},
   "source": [
    "El hecho de que el mejor valor de 𝛼 haya sido 100 y que el R² promedio en la validación cruzada se mantenga cercano a 0.7997 es una indicación positiva de que el modelo es estable y generaliza bien, aún con paramentros de alpha grandes."
   ]
  },
  {
   "cell_type": "markdown",
   "metadata": {},
   "source": [
    "Comparamos los nuevos valores:"
   ]
  },
  {
   "cell_type": "code",
   "execution_count": 53,
   "metadata": {},
   "outputs": [
    {
     "name": "stdout",
     "output_type": "stream",
     "text": [
      "R² en entrenamiento: 0.8173056817812612\n",
      "R² en prueba: 0.8359494419243291\n",
      "Mejor R² en validación cruzada: 0.7997415018583729\n"
     ]
    }
   ],
   "source": [
    "# Evaluación del modelo con el mejor alpha para datos de entrenamiento\n",
    "r2_train = r2_score(y_train, grid.predict(x_train))\n",
    "print(f'R² en entrenamiento: {r2_train}')\n",
    "\n",
    "# Evaluación del modelo con el mejor alpha para datos de prueba\n",
    "r2_test = r2_score(y_test, grid.predict(x_test))\n",
    "print(f'R² en prueba: {r2_test}')\n",
    "\n",
    "print(f\"Mejor R² en validación cruzada: {grid.best_score_}\")\n"
   ]
  },
  {
   "cell_type": "markdown",
   "metadata": {},
   "source": [
    "Una vez que ajustamos el mejor alpha ahora si vemos que tanto los datos de entrenamiento, de prueba y de la validacioon cruzada se mantienen en valores cercanos."
   ]
  },
  {
   "cell_type": "markdown",
   "metadata": {},
   "source": [
    "### Interpretación\n",
    "Similares valores de en R² entrenamiento y prueba:\n",
    "\n",
    "La diferencia entre los valores de R² entrenamiento (0.81) y R² prueba (0.83) es pequeña, lo que sugiere que el modelo tiene un buen balance entre sesgo y varianza.\n",
    "\n",
    "Tampoco hay indicios de sobreajuste (overfitting) ni de subajuste (underfitting).\n",
    "\n",
    "Diferencia ligera:\n",
    "El valor de R² un poco mejor en los datos de prueba que en los de entrenamiento puede suceder por una buena Regularización que beneficia la generalización."
   ]
  },
  {
   "cell_type": "markdown",
   "metadata": {},
   "source": [
    "### Visualización de los Resultados\n",
    "\n",
    "Vamos a comprobar cómo se comportan las predicciones en los conjuntos de entrenamiento y prueba para validar gráficamente la calidad del ajuste."
   ]
  },
  {
   "cell_type": "markdown",
   "metadata": {},
   "source": [
    "Primero observemos esto através de un gráfico de dispersión."
   ]
  },
  {
   "cell_type": "code",
   "execution_count": 54,
   "metadata": {},
   "outputs": [
    {
     "data": {
      "image/png": "[encoded data removed]",
      "text/plain": [
       "<Figure size 800x600 with 1 Axes>"
      ]
     },
     "metadata": {},
     "output_type": "display_data"
    }
   ],
   "source": [
    "# Predicciones\n",
    "y_pred_train = grid.predict(x_train)\n",
    "y_pred_test = grid.predict(x_test)\n",
    "\n",
    "# Gráfico de dispersión\n",
    "plt.figure(figsize=(8, 6))\n",
    "plt.scatter(y_train, y_pred_train, label='Datos de Entrenamiento', alpha=0.6)\n",
    "plt.scatter(y_test, y_pred_test, label='Datos de Prueba', alpha=0.6)\n",
    "plt.plot([y_train.min(), y_train.max()], [y_train.min(), y_train.max()], 'r--', lw=2, label='Ideal')\n",
    "plt.title('Comparación de los datos de las Predicciones vs Los Valores Reales')\n",
    "plt.legend()\n",
    "plt.show()\n"
   ]
  },
  {
   "cell_type": "markdown",
   "metadata": {},
   "source": [
    "Claramente Se comportan de manera similar."
   ]
  },
  {
   "cell_type": "markdown",
   "metadata": {},
   "source": [
    "### Grafico de residuos\n",
    "Los residuos (errores entre predicción y valores reales) deben tener una distribución aproximadamente normal y estar centrados en cero.\n"
   ]
  },
  {
   "cell_type": "code",
   "execution_count": 55,
   "metadata": {},
   "outputs": [
    {
     "data": {
      "image/png": "[encoded data removed]",
      "text/plain": [
       "<Figure size 800x600 with 1 Axes>"
      ]
     },
     "metadata": {},
     "output_type": "display_data"
    }
   ],
   "source": [
    "# Residuos\n",
    "residuals_train = y_train - y_pred_train\n",
    "residuals_test = y_test - y_pred_test\n",
    "\n",
    "# Histograma de residuos\n",
    "plt.figure(figsize=(8, 6))\n",
    "sns.histplot(residuals_train, kde=True, color='blue', label='Entrenamiento', alpha=0.6)\n",
    "sns.histplot(residuals_test, kde=True, color='orange', label='Prueba', alpha=0.6)\n",
    "plt.axvline(0, color='red', linestyle='--')\n",
    "plt.title('Distribución de Residuos')\n",
    "plt.xlabel('Error')\n",
    "plt.ylabel('Densidad')\n",
    "plt.legend()\n",
    "plt.show()"
   ]
  },
  {
   "cell_type": "markdown",
   "metadata": {},
   "source": [
    "### Que obervamos?\n",
    "* Una distribución centrada en 0 indica que el modelo tiene un sesgo bajo, ya que los errores se distribuyen equitativamente en torno al valor real.\n",
    "* La forma puntiaguda (alto pico) y simetría sugieren que la mayoría de los errores están cerca de 0, lo cual es deseable en un modelo bien ajustado.\n",
    "* Si ambas distribuciones (entrenamiento y prueba) son similares, indica que el modelo generaliza bien y no está sobreajustado."
   ]
  },
  {
   "cell_type": "markdown",
   "metadata": {},
   "source": [
    "Resumen de lo que indican estas métricas:\n",
    "\n",
    "* El modelo parece estar funcionando bien, explicando más del 80% de la variabilidad del precio tanto en los datos de entrenamiento como en los de prueba (R²)."
   ]
  },
  {
   "cell_type": "markdown",
   "metadata": {},
   "source": [
    "Análisis residual\n",
    "\n",
    "Los residuos (diferencia entre valores reales y predichos) deben seguir una distribución normal con media cero y no presentar patrones claros al graficarlos. Esto indica que el modelo no deja patrones sin capturar."
   ]
  },
  {
   "cell_type": "code",
   "execution_count": 56,
   "metadata": {},
   "outputs": [
    {
     "data": {
      "image/png": "[encoded data removed]",
      "text/plain": [
       "<Figure size 640x480 with 1 Axes>"
      ]
     },
     "metadata": {},
     "output_type": "display_data"
    }
   ],
   "source": [
    "# Calculamos los residuos en el conjunto de prueba\n",
    "residuals = y_test - y_pred_test\n",
    "\n",
    "# Gráfico de residuos vs valores predichos\n",
    "plt.scatter(y_pred_test, residuals)\n",
    "plt.axhline(0, color='red', linestyle='--')\n",
    "plt.title(\"Residuos vs Predicciones\")\n",
    "plt.xlabel(\"Predicciones\")\n",
    "plt.ylabel(\"Residuo\")\n",
    "plt.show()\n"
   ]
  },
  {
   "cell_type": "code",
   "execution_count": 58,
   "metadata": {},
   "outputs": [
    {
     "name": "stdout",
     "output_type": "stream",
     "text": [
      "Proporción del MAE respecto al precio promedio: 17.14%\n",
      "Proporción del RMSE respecto al precio promedio: 0.06%\n"
     ]
    }
   ],
   "source": [
    "from sklearn.metrics import mean_absolute_error\n",
    "\n",
    "mae_test = mean_absolute_error(y_test, y_pred_test)\n",
    "rmse_test = np.sqrt(mae_test)\n",
    "\n",
    "mean_price = y_train.mean()\n",
    "mae_ratio = mae_test / mean_price\n",
    "rmse_ratio = rmse_test / mean_price\n",
    "\n",
    "print(f\"Proporción del MAE respecto al precio promedio: {mae_ratio:.2%}\")\n",
    "print(f\"Proporción del RMSE respecto al precio promedio: {rmse_ratio:.2%}\")\n"
   ]
  },
  {
   "cell_type": "markdown",
   "metadata": {},
   "source": [
    "### Conclusiones finales\n",
    "\n",
    "La proporción del MAE y del RMSE respecto al precio promedio nos da una idea de qué tan grande es el error de las predicciones en relación con el valor promedio de las predicciones. Esta proporción nos ayuda a entender el \"tamaño relativo\" del error con respecto al valor que estamos tratando de predecir, en este caso, el precio de las propiedades.\n",
    "\n",
    "Interpretación:\n",
    "\n",
    "``Proporción del MAE respecto al precio promedio: 17.14%``\n",
    "\n",
    "El MAE representa el error absoluto promedio de las predicciones. Esto nos da la idea de que la proporción del MAE respecto al precio promedio es del 17.14% y significa que el error promedio de las predicciones es el 17.14% del valor promedio del precio.\n",
    "Por ejemplo, si el precio promedio de las propiedades es 500000, entonces el error promedio de las predicciones es aproximadamente 85700.\n",
    "Esto sugiere que el modelo tiene un margen de error significativo, ya que casi una quinta parte del valor promedio de la propiedad se pierde debido al error de predicción.\n",
    "\n",
    "\n",
    "``Proporción del RMSE respecto al precio promedio: 0.06%``\n",
    "\n",
    "El RMSE penaliza más los errores grandes que el MAE. En este caso, la proporción del RMSE respecto al precio promedio es 0.06%, lo que significa que el error cuadrático promedio (después de tomar la raíz cuadrada) es muy pequeño en comparación con el precio promedio.\n",
    "Si el precio promedio de las propiedades es 500000, el error cuadrático medio sería solo 300. Esto indica que, a pesar de que el RMSE es más sensible a los errores grandes, en promedio los errores grandes no son tan significativos.\n",
    "\n",
    "El valor pequeño del RMSE respecto al precio promedio sugiere que el modelo tiene un buen ajuste y no está siendo muy afectado por errores grandes.\n",
    "\n",
    "### Conclusión:\n",
    "* El MAE en relación con el precio promedio es relativamente alto (17.14%), lo que indica que el modelo tiene un margen de error significativo en términos absolutos.\n",
    "* El RMSE, al ser mucho más pequeño en proporción al precio promedio (0.06%), indica que los errores grandes no son tan frecuentes, lo que sugiere que el modelo está funcionando razonablemente bien para la mayoría de las predicciones, con un buen control sobre los errores.\n",
    "\n",
    "En resumen, aunque el MAE es una métrica más alta, el RMSE te muestra que los errores grandes son relativamente pocos, lo que podría ser una señal de que el modelo está manejando bien las predicciones en general, pero sigue existiendo margen de mejora."
   ]
  },
  {
   "cell_type": "markdown",
   "metadata": {},
   "source": [
    "<br>"
   ]
  },
  {
   "cell_type": "markdown",
   "metadata": {},
   "source": [
    "<hr>"
   ]
  },
  {
   "cell_type": "markdown",
   "id": "f131a939-871a-4bae-b423-d3d9d36a503d",
   "metadata": {},
   "source": [
    "<h2>Docente autor de este ejercicio</h2> \n",
    "\n",
    "<a href=\"https://www.linkedin.com/in/joseph-s-50398b136/?utm_medium=Exinfluencer&utm_source=Exinfluencer&utm_content=000026UJ&utm_term=10006555&utm_id=NA-SkillsNetwork-Channel-SkillsNetworkCoursesIBMDeveloperSkillsNetworkDA0101ENSkillsNetwork20235326-2022-01-01\">Joseph Santarcangelo</a> tiene un doctorado en Ingeniería Eléctrica y su investigación se centra en el uso del aprendizaje automático, el procesamiento de señales y la visión artificial para determinar cómo los vídeos afectan la cognición humana. Joseph ha trabajado para IBM desde que completó su doctorado.\n"
   ]
  },
  {
   "cell_type": "markdown",
   "id": "089bf1a0-ddd0-459f-8d68-496f82f3ad63",
   "metadata": {},
   "source": [
    "Otras contribuciones: <a href=\"https://www.linkedin.com/in/michelleccarey/?utm_medium=Exinfluencer&utm_source=Exinfluencer&utm_content=000026UJ&utm_term=10006555&utm_id=NA-SkillsNetwork-Channel-SkillsNetworkCoursesIBMDeveloperSkillsNetworkDA0101ENSkillsNetwork20235326-2022-01-01\">Michelle Carey</a>, <a href=\"https://www.linkedin.com/in/jiahui-mavis-zhou-a4537814a?utm_medium=Exinfluencer&utm_source=Exinfluencer&utm_content=000026UJ&utm_term=10006555&utm_id=NA-SkillsNetwork-Channel-SkillsNetworkCoursesIBMDeveloperSkillsNetworkDA0101ENSkillsNetwork20235326-2022-01-01\">Mavis Zhou</a>\n"
   ]
  },
  {
   "cell_type": "markdown",
   "metadata": {},
   "source": [
    "Este Cuaderno fue traducido de su idioma original (Inglés) al castellano para su uso."
   ]
  },
  {
   "cell_type": "markdown",
   "metadata": {},
   "source": [
    "<br>"
   ]
  },
  {
   "cell_type": "markdown",
   "metadata": {},
   "source": [
    "\n",
    "\n",
    "<h3 align='center'>Este trabajo fue traducido y realizado por <a href='https://www.linkedin.com/in/flavio-aguirre-12784a252/'>Flavio Aguirre</a></h3> "
   ]
  },
  {
   "cell_type": "markdown",
   "id": "aad4532a-e7a1-403c-a05c-76c4948d35b8",
   "metadata": {},
   "source": [
    "\n",
    "## <h3 align=\"center\"> © IBM Corporation 2020. All rights reserved. <h3/>\n",
    "<!--## Change Log\n",
    "\n",
    "| Date (YYYY-MM-DD) | Version | Changed By      | Change Description                           |\n",
    "| ----------------- | ------- | --------------- | -------------------------------------------- |\n",
    "| 2020-12-01        | 2.2     | Aije Egwaikhide | Coverted Data describtion from text to table |\n",
    "| 2020-10-06        | 2.1     | Lakshmi Holla   | Changed markdown instruction of Question1    |\n",
    "| 2020-08-27        | 2.0     | Malika Singla   | Added lab to GitLab                          |\n",
    "| 2022-06-13        | 2.3     | Svitlana Kramar | Updated Notebook sharing instructions        |\n",
    "| <hr>              |         |                 |                                              |\n",
    "\n",
    "\n",
    "--!>\n",
    "<p>\n"
   ]
  }
 ],
 "metadata": {
  "kernelspec": {
   "display_name": ".venv",
   "language": "python",
   "name": "python3"
  },
  "language_info": {
   "codemirror_mode": {
    "name": "ipython",
    "version": 3
   },
   "file_extension": ".py",
   "mimetype": "text/x-python",
   "name": "python",
   "nbconvert_exporter": "python",
   "pygments_lexer": "ipython3",
   "version": "3.12.3"
  },
  "prev_pub_hash": "8e1b9a014f4d5dd1f594f0f84b9e2a27c098aabf3c393aa0062e8aef51a297d0"
 },
 "nbformat": 4,
 "nbformat_minor": 4
}
